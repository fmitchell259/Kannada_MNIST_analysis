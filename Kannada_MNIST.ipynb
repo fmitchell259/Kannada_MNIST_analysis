{
 "cells": [
  {
   "cell_type": "markdown",
   "metadata": {},
   "source": [
    "<h1><center> Group Assignment - CS985 - Machine Learning for Data Analytics </center></h1>\n",
    "\n",
    "<h1><center>Project Notebook - Team Y</center></h1>\n",
    "\n",
    "<h1><center>Kanaada MNIST Classification</center></h1>\n",
    "\n",
    "-----------------------\n",
    "\n",
    "<h1><ins>1 - Introduction</ins></h1><br>\n",
    "\n",
    "\n",
    "\n",
    "\n",
    "<h2>1.1 - The Team</h2>\n",
    "\n",
    "\n",
    "\n",
    "All members are studying the MSc Artificial Intelligence and Applications:\n",
    "\n",
    "| Name           | Student Number | Kaggle ID                             |\n",
    "| -------------- | -------------- | ------------------------------------- |\n",
    "| James Dutfield | 201977849      | <https://www.kaggle.com/dutters>      |\n",
    "| Frank Mitchell | 201957720      | <https://www.kaggle.com/fmitchell259> |\n",
    "| Kanaad Pathak  | 201964344      | <https://www.kaggle.com/kanaadpathak> |\n",
    "| Barry Smart    | 201962939      | <https://www.kaggle.com/vesperpiano>  |\n",
    "\n",
    "-----------------------------------\n",
    "\n",
    "<h2>1.2 - Tooling</h2>\n",
    "\n",
    "We used the following tools to support team working:\n",
    "\n",
    "![Illustration of tools used to coordinate team and manage code.](images/tools.png)\n",
    "\n",
    "\n",
    "<h2>1.3 - High Level Architecture</h2>\n",
    "\n",
    "We adhered to the following high level architecutre:\n",
    "\n",
    "![Illustration of the high level data flows and architecture.](images/architecture.png)\n",
    "\n",
    "<h2>1.4 - Import Libraries</h2>\n",
    "\n",
    "Import necessary libraries. \n",
    "\n"
   ]
  },
  {
   "cell_type": "code",
   "execution_count": 2,
   "metadata": {},
   "outputs": [],
   "source": [
    "import tensorflow as tf\n",
    "from tensorflow import keras\n",
    "from tensorflow.python.client import device_lib\n",
    "from keras.layers import LeakyReLU\n",
    "import numpy as np\n",
    "import pandas as pd\n",
    "import matplotlib.pyplot as plt\n",
    "from keras.utils import np_utils\n",
    "from sklearn.model_selection import RandomizedSearchCV, GridSearchCV\n",
    "from sklearn.metrics import accuracy_score\n",
    "from scipy.stats import reciprocal\n",
    "import sys\n",
    "import os\n",
    "import scipy\n",
    "import time\n",
    "sys.path.insert(0, \"../\")\n",
    "config = tf.compat.v1.ConfigProto()\n",
    "config.gpu_options.allow_growth = True\n",
    "session = tf.compat.v1.InteractiveSession(config=config)"
   ]
  },
  {
   "cell_type": "markdown",
   "metadata": {},
   "source": [
    "------------"
   ]
  },
  {
   "cell_type": "markdown",
   "metadata": {},
   "source": [
    "<h1><ins>2 - Data Preprocessing</ins></h1><br>\n",
    "\n",
    "\n",
    "In terms of data pre-processing, the steps taken for MNIST were comparitively minimal. It was important that the features were scaled properly, as neural networks use the weighted sum of inputs for training, so for the network to be stable and train effectively, weights must be kept small. \n",
    "\n",
    "<br>\n",
    "\n",
    "<h2>2.1 - Pixel Scaling Methods</h2><br>\n",
    "\n",
    "There are three main approaches when it comes to scaling pixels:<br>\n",
    "\n",
    "1. <i>Normalisation:</i> Pixels are scaled to the range 0-1.<br>\n",
    "\n",
    "2. <i>Centering:</i> The mean value is subtracted from each pixel, resulting in a distribution of pixel values centered around a mean of zero. \n",
    "\n",
    "3. <i>Standardisation:</i> Pixel values are scaled to a standard Gaussian with a mean of zero and a standard deviation of one. \n",
    "\n",
    "As a means of initial exploration we chose to `Normalise` the pixels. This is often the default approach, working on the assumption that pixel values are always in the range of 0-255, making it very simple and efficient to scale in this manner. \n",
    "\n",
    "Centering is also a popular approach for scaling, but can add further levels of complexity, as the `mean` can be calculated per image (globally) or per channel (locally) and across a batch of images or the entire dataset. \n",
    "\n",
    "For our first approach we thought it prudent to move forward with the simplest method of data normalisation. \n",
    "\n",
    "We normalise all the data and split the training set into `training` and `validation`, dropping the `Id` and `Label` columns in the process. \n",
    "\n",
    "Finally, we converted the data into `2d numpy arrays` to use as input for our Neural Networks.\n",
    "\n",
    "---\n",
    "\n",
    "    \n",
    "    \n",
    "  \n",
    "\n"
   ]
  },
  {
   "cell_type": "code",
   "execution_count": 3,
   "metadata": {},
   "outputs": [],
   "source": [
    "training_data = pd.read_csv('data/kannada_mnist/training.csv')\n",
    "testing_data = pd.read_csv('data/kannada_mnist/test.csv')\n",
    "\n",
    "X_train_full = training_data.drop(columns=['label', 'id'])\n",
    "y_train_full = training_data['label']\n",
    "\n",
    "\n",
    "X_valid, X_train = X_train_full[:1000] / 255.0, X_train_full[1000:] / 255.0\n",
    "y_valid, y_train = y_train_full[:1000], y_train_full[1000:]\n",
    "\n",
    "X_test = testing_data / 255.0\n",
    "\n",
    "X_test = X_test.drop(columns=['id'])\n"
   ]
  },
  {
   "cell_type": "code",
   "execution_count": 4,
   "metadata": {},
   "outputs": [],
   "source": [
    "X_train = pd.DataFrame.to_numpy(X_train)\n",
    "X_test = pd.DataFrame.to_numpy(X_test)\n",
    "X_valid = pd.DataFrame.to_numpy(X_valid)\n",
    "\n",
    "y_train = pd.DataFrame.to_numpy(y_train)\n",
    "y_valid = pd.DataFrame.to_numpy(y_valid)"
   ]
  },
  {
   "cell_type": "markdown",
   "metadata": {},
   "source": [
    "<br>\n",
    "\n",
    "<h2>2.2 - One Hot Encoding</h2><br>\n",
    "\n",
    "The target variable is a range from `0-9`, and as such we conducted one-hot encoding, giving each individual neuron the option to fire (output `1`) or not (output `0`). \n",
    "\n",
    "To conduct this `one-hot encoding` we used numpy's built in `to_categorical` method. \n",
    "\n",
    "---\n",
    "\n",
    "\n",
    "\n"
   ]
  },
  {
   "cell_type": "code",
   "execution_count": 5,
   "metadata": {},
   "outputs": [],
   "source": [
    "n_classes = 10\n",
    "y_train_one_hot = np_utils.to_categorical(y_train, n_classes)\n",
    "y_valid_one_hot = np_utils.to_categorical(y_valid, n_classes)"
   ]
  },
  {
   "cell_type": "markdown",
   "metadata": {},
   "source": [
    "<br>\n",
    "\n",
    "<h2>2.3 - Tensorboard Boiler Plate</h2><br>\n",
    "\n",
    "This is boiler plate code required to access `Tensorboard` visualisations, setting up a root directory to hold `Tensorboard` files. \n",
    "\n",
    "These files are created using keras `callbacks` and accessed through a web browser. \n",
    "\n",
    "---\n",
    "\n",
    "\n",
    "\n"
   ]
  },
  {
   "cell_type": "code",
   "execution_count": 6,
   "metadata": {},
   "outputs": [],
   "source": [
    "root_logdir = os.path.join(os.curdir, \"my_logs\")\n",
    "def get_run_logdir():\n",
    "    run_id = time.strftime(\"run_%Y_%m_&d-%H_%M_%S\")\n",
    "    return os.path.join(root_logdir, run_id)\n",
    "\n",
    "run_logdir = get_run_logdir()\n",
    "tensorboard_cb = keras.callbacks.TensorBoard(run_logdir)"
   ]
  },
  {
   "cell_type": "markdown",
   "metadata": {},
   "source": [
    "<br>\n",
    "\n",
    "<h2>2.4 - GridSearchCV SKLearn Wrapper</h2><br>\n",
    "\n",
    "In order to utilise SKLearn's `GridSearchCV` object we had to create a thin wrapper for our models. \n",
    "\n",
    "After achieving an acceptable baseline, we then used this wrapper to automatically optimise the hyperparameters. \n",
    "\n",
    "----\n",
    "\n",
    "\n",
    "\n"
   ]
  },
  {
   "cell_type": "code",
   "execution_count": 6,
   "metadata": {},
   "outputs": [],
   "source": [
    "def build_model(n_hidden=3, learning_rate=0.01, n_neurons=512, input_shape=[784], dropout_rate=0.2, \n",
    "                loss=\"categorical_crossentropy\", output_neurons=10, optimizer='sgd', activation='relu',\n",
    "               momentum=0.9):\n",
    "    \n",
    "    model = keras.models.Sequential()\n",
    "    model.add(keras.layers.InputLayer(input_shape=input_shape))\n",
    "    for layer in range(n_hidden):\n",
    "        model.add(keras.layers.Dense(n_neurons, activation='relu'))\n",
    "        model.add(keras.layers.Dropout(rate=dropout_rate))\n",
    "    model.add(keras.layers.Dense(output_neurons, activation=\"softmax\"))\n",
    "    model.compile(loss=loss, optimizer='sgd', metrics=['accuracy'])\n",
    "\n",
    "    \n",
    "    return model"
   ]
  },
  {
   "cell_type": "markdown",
   "metadata": {},
   "source": [
    "---"
   ]
  },
  {
   "cell_type": "markdown",
   "metadata": {},
   "source": [
    "---"
   ]
  },
  {
   "cell_type": "markdown",
   "metadata": {},
   "source": [
    "<h1><ins>3 - Classification Models</ins></h1><br>"
   ]
  },
  {
   "cell_type": "markdown",
   "metadata": {},
   "source": [
    "<h2>3.1 - Simple Deep Neural Network</h2><br>\n",
    "\n",
    "<h3><ins>3.1.1 - Introduction</ins></h3><br>\n",
    "\n",
    "One of our first models aimed to reflect a simple architecture to achieve a baseline accuracy. Through consulation of the book `Hands On ML` by Geron, we decided on a simple two layer network using the `ReLU` activation function. As outlined by Geron, this function behaves much better in a neural net (as oppossed to the `sigmoid`) as it doesn't saturate gradients for positive values (and it's much faster to compute).\n",
    "\n",
    "We considered the `dying ReLU's problem` (during training some neurons begin outputting only zero, causing gradient descent to have no effect because the gradient of the `ReLU` is zero when its input is negative). However, in keeping with our initial outline for a simple neural net, we moved forward with regular `ReLU`, with a view to comparing this with `Leaky ReLU` (a variation on regular `ReLU` that adds a small slope to avoid neurons from dying out altogether).\n",
    "\n",
    "We also felt it suitable to include `Dropout` layers in our network to help avoid overfitting. `Dropout` will randomly set a percentage of outgoing edges (from hidden units) to be temporarily 'dropped out' during training (meaning they are ignored at this stage in the process), but could be activated again on the next step. This process can be highly destructive, however, according to Geron, is <i>\"a proven method for adding 1-2% accuracy to some models\".</i>  \n",
    "    \n",
    "\n",
    "\n",
    "---"
   ]
  },
  {
   "cell_type": "markdown",
   "metadata": {},
   "source": [
    "<h3><ins>3.1.2 - Architecture</ins></h3><br>\n",
    "\n",
    "![Illustration of SImple Deep Neural Network Architecture.](images/frank_arch1.png)\n",
    "\n",
    "\n",
    "<br>"
   ]
  },
  {
   "cell_type": "markdown",
   "metadata": {},
   "source": [
    "<h3><ins> 3.1.3 - Weight Initialisation</ins></h3><br>\n",
    "\n",
    "Another important factor to consider in any neural network are the weight initialisations. As pointed out by `Glorot and He`, a signal must flow properly in both directions of the network (the forward pass and the back-propogation). It is detrimental to our network if these signals die out, or explode (and saturate the model).\n",
    "\n",
    "`Glorot and He` argue that for a signal to flow properly we need the variance of the outputs of each layer to be equal to the variance of its inputs, and we need the gradient to have equal variance, before and after flowing through a layer in the reverse direction. \n",
    "\n",
    "We can only ensure both of these statements will be true by having an equal number of inputs and neurons (these are called the `fanIn` and `fanOut` values). \n",
    "\n",
    "However, `Glorot and He` have suggested a good compromise:\n",
    "\n",
    "The connection weights of each layer must be initialised randomly, where:\n",
    "\n",
    "`fanAverage = (fanIn + fanOut)/2`\n",
    "\n",
    "This is known as the `Xavier Initialisation`. \n",
    "\n",
    "For our first model though, we opted for a slight variance on this technique called, `He Initialisation`, which provides a uniform distribution of weight values based on `favAverage` rather than `fanIn`. \n",
    "\n",
    "This weight initialisation is easily implemented using keras' `VarianceScaling`\n",
    "initialiser. \n",
    "\n",
    "---\n"
   ]
  },
  {
   "cell_type": "code",
   "execution_count": 7,
   "metadata": {},
   "outputs": [],
   "source": [
    "he_avg_init = keras.initializers.VarianceScaling(scale=2, mode='fan_avg',\n",
    "                                                distribution='uniform')"
   ]
  },
  {
   "cell_type": "markdown",
   "metadata": {},
   "source": [
    "<br>\n",
    "\n",
    "<h3><ins>3.1.4 Implementation</ins></h3><br>\n",
    "\n",
    "With out weight initialisation set up, and an architecture in mind, we went ahead and constructed the model using the keras `Sequential` object. \n",
    "\n",
    "This model was trained using the `adam` optimiser (Adaptive Moment Estimation). This optimser combines the idea of `momentum` (tracking an exponentially decaying average of past gradients) and `RMSProp`, another optimiser that keeps track of exponentially decaying average past square gradients. \n",
    "\n",
    "We chose `Adam` in adherence with our principle of simple execution. `Adam` is an adaptive learning rate algorithm, and as such requires very little tuning of hyperparameters. \n",
    "\n",
    "Accoring to `Geron`, this makes `Adam`, <i>\"even easier to use than Gradient Descent.\"\n",
    "</i>\n",
    "\n",
    "<br>\n",
    "\n",
    "\n",
    "\n",
    "\n"
   ]
  },
  {
   "cell_type": "code",
   "execution_count": 8,
   "metadata": {},
   "outputs": [],
   "source": [
    "model = keras.models.Sequential([\n",
    "\n",
    "    keras.layers.Dense(512, activation='relu'),\n",
    "    keras.layers.Dropout(rate=0.2),\n",
    "    keras.layers.Dense(512, activation='relu'),\n",
    "    keras.layers.Dropout(rate=0.2),\n",
    "    keras.layers.Dense(10, activation='softmax')\n",
    "    \n",
    "])\n",
    "\n",
    "model.compile(loss=\"categorical_crossentropy\", optimizer='adam', metrics=['accuracy'])\n",
    "\n",
    "\n"
   ]
  },
  {
   "cell_type": "code",
   "execution_count": 9,
   "metadata": {},
   "outputs": [
    {
     "name": "stdout",
     "output_type": "stream",
     "text": [
      "Train on 59000 samples, validate on 1000 samples\n",
      "Epoch 1/20\n",
      "59000/59000 [==============================] - 2s 37us/sample - loss: 0.2221 - accuracy: 0.9365 - val_loss: 0.1127 - val_accuracy: 0.9630\n",
      "Epoch 2/20\n",
      "59000/59000 [==============================] - 1s 23us/sample - loss: 0.0854 - accuracy: 0.9740 - val_loss: 0.1219 - val_accuracy: 0.9690\n",
      "Epoch 3/20\n",
      "59000/59000 [==============================] - 1s 22us/sample - loss: 0.0546 - accuracy: 0.9829 - val_loss: 0.0795 - val_accuracy: 0.9790\n",
      "Epoch 4/20\n",
      "59000/59000 [==============================] - 1s 23us/sample - loss: 0.0402 - accuracy: 0.9873 - val_loss: 0.0774 - val_accuracy: 0.9790\n",
      "Epoch 5/20\n",
      "59000/59000 [==============================] - 1s 22us/sample - loss: 0.0302 - accuracy: 0.9903 - val_loss: 0.0699 - val_accuracy: 0.9820\n",
      "Epoch 6/20\n",
      "59000/59000 [==============================] - 1s 22us/sample - loss: 0.0240 - accuracy: 0.9917 - val_loss: 0.0723 - val_accuracy: 0.9840\n",
      "Epoch 7/20\n",
      "59000/59000 [==============================] - 1s 22us/sample - loss: 0.0202 - accuracy: 0.9932 - val_loss: 0.1119 - val_accuracy: 0.9790\n",
      "Epoch 8/20\n",
      "59000/59000 [==============================] - 1s 22us/sample - loss: 0.0183 - accuracy: 0.9940 - val_loss: 0.1259 - val_accuracy: 0.9740\n",
      "Epoch 9/20\n",
      "59000/59000 [==============================] - 1s 22us/sample - loss: 0.0155 - accuracy: 0.9950 - val_loss: 0.0954 - val_accuracy: 0.9780\n",
      "Epoch 10/20\n",
      "59000/59000 [==============================] - 1s 22us/sample - loss: 0.0159 - accuracy: 0.9947 - val_loss: 0.0819 - val_accuracy: 0.9810\n",
      "Epoch 11/20\n",
      "59000/59000 [==============================] - 1s 22us/sample - loss: 0.0157 - accuracy: 0.9949 - val_loss: 0.1166 - val_accuracy: 0.9810\n",
      "Epoch 12/20\n",
      "59000/59000 [==============================] - 1s 23us/sample - loss: 0.0121 - accuracy: 0.9960 - val_loss: 0.1059 - val_accuracy: 0.9810\n",
      "Epoch 13/20\n",
      "59000/59000 [==============================] - 1s 23us/sample - loss: 0.0111 - accuracy: 0.9965 - val_loss: 0.0834 - val_accuracy: 0.9850\n",
      "Epoch 14/20\n",
      "59000/59000 [==============================] - 1s 23us/sample - loss: 0.0124 - accuracy: 0.9958 - val_loss: 0.1276 - val_accuracy: 0.9770\n",
      "Epoch 15/20\n",
      "59000/59000 [==============================] - 1s 23us/sample - loss: 0.0113 - accuracy: 0.9961 - val_loss: 0.0944 - val_accuracy: 0.9840\n",
      "Epoch 16/20\n",
      "59000/59000 [==============================] - 1s 23us/sample - loss: 0.0094 - accuracy: 0.9970 - val_loss: 0.1000 - val_accuracy: 0.9810\n",
      "Epoch 17/20\n",
      "59000/59000 [==============================] - 1s 23us/sample - loss: 0.0078 - accuracy: 0.9975 - val_loss: 0.0996 - val_accuracy: 0.9780\n",
      "Epoch 18/20\n",
      "59000/59000 [==============================] - 1s 23us/sample - loss: 0.0107 - accuracy: 0.9963 - val_loss: 0.1561 - val_accuracy: 0.9710\n",
      "Epoch 19/20\n",
      "59000/59000 [==============================] - 1s 23us/sample - loss: 0.0109 - accuracy: 0.9966 - val_loss: 0.1211 - val_accuracy: 0.9770\n",
      "Epoch 20/20\n",
      "59000/59000 [==============================] - 1s 23us/sample - loss: 0.0092 - accuracy: 0.9969 - val_loss: 0.1200 - val_accuracy: 0.9830\n"
     ]
    }
   ],
   "source": [
    "history = model.fit(X_train, y_train_one_hot, epochs=20,\n",
    "                   validation_data=(X_valid, y_valid_one_hot), batch_size=128,\n",
    "                   callbacks=[tensorboard_cb])\n",
    "\n"
   ]
  },
  {
   "cell_type": "code",
   "execution_count": 10,
   "metadata": {},
   "outputs": [],
   "source": [
    "mse_test = model.evaluate(X_valid, y_valid_one_hot, verbose=0)"
   ]
  },
  {
   "cell_type": "markdown",
   "metadata": {},
   "source": [
    "<br>\n",
    "\n",
    "<h3><ins>3.1.5 Simple DNN Results</ins></h3><br>\n",
    "\n",
    "Our basline model performed quite well on the validation set, achieving a `98%` accuracy on the `Mean Squared Error` test. \n",
    "\n",
    "As we see from the validation plot below though, the `loss` and `validation loss` are diverging quite dramatically, indicating that the model is seriously overfitting. \n",
    "\n",
    "\n",
    "---"
   ]
  },
  {
   "cell_type": "code",
   "execution_count": 11,
   "metadata": {},
   "outputs": [
    {
     "data": {
      "text/plain": [
       "[0.12004533939904649, 0.983]"
      ]
     },
     "execution_count": 11,
     "metadata": {},
     "output_type": "execute_result"
    }
   ],
   "source": [
    "mse_test"
   ]
  },
  {
   "cell_type": "code",
   "execution_count": 12,
   "metadata": {},
   "outputs": [
    {
     "data": {
      "image/png": "[encoded data removed]",
      "text/plain": [
       "<Figure size 1080x720 with 1 Axes>"
      ]
     },
     "metadata": {
      "needs_background": "light"
     },
     "output_type": "display_data"
    }
   ],
   "source": [
    "pd.DataFrame(history.history).plot(figsize=(15, 10))\n",
    "plt.grid(True)\n",
    "plt.gca().set_ylim(0, 1)\n",
    "plt.title(\"Training and Validation Loss - Simple Deep Neural Network.\")\n",
    "plt.ylabel(\"Accuracy\")\n",
    "plt.xlabel(\"Epochs\")\n",
    "plt.show()"
   ]
  },
  {
   "cell_type": "markdown",
   "metadata": {},
   "source": [
    "---\n",
    "\n",
    "<br>\n",
    "\n",
    "<h2> 3.2 - GridSearchCV on Simple DNN </h2><br>\n",
    "\n",
    "As a means of improving this initial basline model we utilised SKLearn's GridSearchCV object to automate the tuning of our hyperparamters. \n",
    "\n",
    "<h3><ins>3.2.1 - Parameter Initialisation</ins></h3><br>\n",
    "\n",
    "First we had to build a parameter grid (normal SKLearn practice), setting up a range of different values for Grid Search to try in each parameter argument.\n",
    "\n",
    "---"
   ]
  },
  {
   "cell_type": "code",
   "execution_count": 13,
   "metadata": {},
   "outputs": [],
   "source": [
    "batch_size = [10, 20, 40]\n",
    "epochs = [10, 50, 100]\n",
    "learning_rate = [0.001, 0.01]\n",
    "n_neurons = [10, 100, 150, 200]\n",
    "momentum = [0.9, 0.8]\n",
    "\n",
    "param_grid2 = dict(learning_rate=learning_rate, \n",
    "                 batch_size=batch_size, epochs=epochs, n_neurons=n_neurons,\n",
    "                  momentum=momentum)"
   ]
  },
  {
   "cell_type": "markdown",
   "metadata": {},
   "source": [
    "<br>\n",
    "\n",
    "<h3><ins>3.2.2 - SKLearn Wrapper</ins></h3><br>\n",
    "\n",
    "In order to use the built-in `.fit()` method of the GridSearchCV object, we need to wrap our model in a thin SKLearn wrapper. \n",
    "\n",
    "---"
   ]
  },
  {
   "cell_type": "code",
   "execution_count": 14,
   "metadata": {},
   "outputs": [],
   "source": [
    "grid_model = keras.wrappers.scikit_learn.KerasClassifier(build_model)"
   ]
  },
  {
   "cell_type": "markdown",
   "metadata": {},
   "source": [
    "<br>\n",
    "\n",
    "<h3><ins>3.2.3 - Fit the GridSearch</ins></h3><br>\n",
    "\n",
    "With the parameters initialised and the model wrapped we can go ahead and call the `.fit()` method. \n",
    "\n",
    "---\n",
    "\n",
    "<br>\n",
    "\n",
    "<i>Disclaimer: Please find outlined the parameters of the gridsearch, included here for posterity. This gridsearch ran overnight and produced the optimum parameters used to fit the Deep Neural Net below.</i>\n",
    "\n",
    "<i>The following code was used to initialise the gridsearch and has been commented out for practical reasons.</i>\n",
    "\n",
    "`new_grid = GridSearchCV(estimator=grid_model, param_grid=param_grid2, cv=3)\n",
    " result = new_grid.fit(X_train, y_train_one_hot, epochs=10,\n",
    "                      validation_data=(X_valid, y_valid_one_hot),\n",
    "                      callbacks=[keras.callbacks.EarlyStopping(patience=10)],\n",
    "                      verbose=0)`\n",
    "\n",
    "---\n",
    "\n",
    "\n",
    "\n"
   ]
  },
  {
   "cell_type": "code",
   "execution_count": 15,
   "metadata": {},
   "outputs": [
    {
     "name": "stdout",
     "output_type": "stream",
     "text": [
      "Train on 59000 samples, validate on 1000 samples\n",
      "Epoch 1/30\n",
      "59000/59000 [==============================] - 13s 227us/sample - loss: 0.4871 - accuracy: 0.8533 - val_loss: 0.1781 - val_accuracy: 0.9460\n",
      "Epoch 2/30\n",
      "59000/59000 [==============================] - 13s 225us/sample - loss: 0.2157 - accuracy: 0.9363 - val_loss: 0.1709 - val_accuracy: 0.9480\n",
      "Epoch 3/30\n",
      "59000/59000 [==============================] - 14s 239us/sample - loss: 0.1698 - accuracy: 0.9503 - val_loss: 0.1258 - val_accuracy: 0.9550\n",
      "Epoch 4/30\n",
      "59000/59000 [==============================] - 13s 225us/sample - loss: 0.1397 - accuracy: 0.9588 - val_loss: 0.1216 - val_accuracy: 0.9650\n",
      "Epoch 5/30\n",
      "59000/59000 [==============================] - 13s 226us/sample - loss: 0.1192 - accuracy: 0.9648 - val_loss: 0.1162 - val_accuracy: 0.9670\n",
      "Epoch 6/30\n",
      "59000/59000 [==============================] - 13s 225us/sample - loss: 0.1050 - accuracy: 0.9685 - val_loss: 0.1106 - val_accuracy: 0.9700\n",
      "Epoch 7/30\n",
      "59000/59000 [==============================] - 13s 226us/sample - loss: 0.0936 - accuracy: 0.9725 - val_loss: 0.1043 - val_accuracy: 0.9700\n",
      "Epoch 8/30\n",
      "59000/59000 [==============================] - 13s 225us/sample - loss: 0.0825 - accuracy: 0.9748 - val_loss: 0.0931 - val_accuracy: 0.9710\n",
      "Epoch 9/30\n",
      "59000/59000 [==============================] - 13s 225us/sample - loss: 0.0767 - accuracy: 0.9767 - val_loss: 0.0795 - val_accuracy: 0.9740\n",
      "Epoch 10/30\n",
      "59000/59000 [==============================] - 13s 225us/sample - loss: 0.0700 - accuracy: 0.9788 - val_loss: 0.0785 - val_accuracy: 0.9750\n",
      "Epoch 11/30\n",
      "59000/59000 [==============================] - 13s 228us/sample - loss: 0.0631 - accuracy: 0.9802 - val_loss: 0.0960 - val_accuracy: 0.9730\n",
      "Epoch 12/30\n",
      "59000/59000 [==============================] - 13s 227us/sample - loss: 0.0583 - accuracy: 0.9822 - val_loss: 0.1018 - val_accuracy: 0.9730\n",
      "Epoch 13/30\n",
      "59000/59000 [==============================] - 13s 227us/sample - loss: 0.0551 - accuracy: 0.9824 - val_loss: 0.0845 - val_accuracy: 0.9800\n",
      "Epoch 14/30\n",
      "59000/59000 [==============================] - 13s 225us/sample - loss: 0.0503 - accuracy: 0.9841 - val_loss: 0.1008 - val_accuracy: 0.9720\n",
      "Epoch 15/30\n",
      "59000/59000 [==============================] - 13s 227us/sample - loss: 0.0483 - accuracy: 0.9851 - val_loss: 0.0793 - val_accuracy: 0.9780\n"
     ]
    }
   ],
   "source": [
    "best_model = build_model(learning_rate=0.001, optimizer='nadam', n_neurons=150, momentum=0.8)\n",
    "hist_best = best_model.fit(X_train, y_train_one_hot, epochs=30, batch_size=10, \n",
    "               callbacks=[keras.callbacks.EarlyStopping(patience=5),\n",
    "                           tensorboard_cb], validation_data=(X_valid, y_valid_one_hot))"
   ]
  },
  {
   "cell_type": "code",
   "execution_count": 16,
   "metadata": {},
   "outputs": [],
   "source": [
    "mse_test = best_model.evaluate(X_valid, y_valid_one_hot, verbose=0)"
   ]
  },
  {
   "cell_type": "markdown",
   "metadata": {},
   "source": [
    "<br>\n",
    "\n",
    "<h3><ins>3.2.4 - GridSearch Results</ins></h3><br>\n",
    "\n",
    "\n",
    "After running overnight, `GridSearchCV` provided parameters that produced an optimial accuracy. \n",
    "\n",
    "Using those parameters we fit the above model and produced the following results.\n",
    "\n",
    "We can see that by using optimised hyperparameters, we have somewhat mitigated the overfitting problem. This issue could be further solved with the inclusion of more data, data augmentation, reducing the model complexity or implementating a regularisation technique. \n",
    "\n",
    "We can also see the accuracy and validation accuracy converging faster, indicating that our tuned hyperparameters have produced a better fit for our data.  \n",
    "\n",
    "<br>\n",
    "\n"
   ]
  },
  {
   "cell_type": "code",
   "execution_count": 17,
   "metadata": {},
   "outputs": [
    {
     "data": {
      "image/png": "[encoded data removed]",
      "text/plain": [
       "<Figure size 1080x720 with 1 Axes>"
      ]
     },
     "metadata": {
      "needs_background": "light"
     },
     "output_type": "display_data"
    }
   ],
   "source": [
    "pd.DataFrame(hist_best.history).plot(figsize=(15, 10))\n",
    "plt.grid(True)\n",
    "plt.gca().set_ylim(0, 1)\n",
    "plt.title(\"Training and Validation Loss - Simple Deep Neural Network (GridSearch Param).\")\n",
    "plt.ylabel(\"Accuracy\")\n",
    "plt.xlabel(\"Epochs\")\n",
    "plt.show()"
   ]
  },
  {
   "cell_type": "code",
   "execution_count": 18,
   "metadata": {},
   "outputs": [
    {
     "data": {
      "text/plain": [
       "[0.07929184051929042, 0.978]"
      ]
     },
     "execution_count": 18,
     "metadata": {},
     "output_type": "execute_result"
    }
   ],
   "source": [
    "mse_test"
   ]
  },
  {
   "cell_type": "markdown",
   "metadata": {},
   "source": [
    "By utislising the SKLearn's GridSearch object we have improved our classifcation score.\n",
    "\n",
    "The following model scored `91%` on the unseen Kaggle data. \n",
    "\n",
    "--------"
   ]
  },
  {
   "cell_type": "markdown",
   "metadata": {},
   "source": [
    "<br>\n",
    "\n",
    "\n",
    "<h2>3.3 - Convolutional Neural Net - Initial Implementation </h2><br>\n",
    "\n",
    "\n",
    "<h3><ins>3.3.1 Introduction</ins></h3><br>\n",
    "\n",
    "After experimenting with a simple Deep Neural Net we then considered the use of a Convolutional Neural Network (CNN). This is due to it's traditionally high performance with image classification. \n",
    "\n",
    "The most important building block of a CNN are the convolutional layers, where each neuron is <b>not</b> connected to every single pixel in the input image, but only to those pixels within its receptive field. In turn the second convolutional layer is only connected by a small rectangle of neurons in the first layer. This allows the net to focus on small low-level features, assembling them into higher level features as the data moves through the network. Real-world images mirror this heirarchical structure, which is one of the reasons why CNN's work so well for image recognition.\n",
    "\n",
    "In order to implement this type of network it was neccessary to pre-process the data into a format suitable for convolutional layers. \n",
    "\n",
    "<br>"
   ]
  },
  {
   "cell_type": "markdown",
   "metadata": {},
   "source": [
    "<br>\n",
    "\n",
    "<h3><ins>3.3.2 - Preprocessing the data </ins></h3><br>\n",
    "\n",
    "Convolutional Neural Networks take images as inputs and use a `filter` (a small window of weights) to gradually move across the image (this is called the `stride`), creating a much smaller output vector for the next convolutional layer. \n",
    "\n",
    "Each convolutional layer is a 3d tensor; pixel height, pixel width and channel. Most  images in the real world have three channels ('RGB'), however our MNIST data only exists on a single channel, however we did need to reshape the data to reflect the original image dimensions. \n",
    "\n",
    "\n",
    "\n",
    "<br>"
   ]
  },
  {
   "cell_type": "code",
   "execution_count": 7,
   "metadata": {},
   "outputs": [],
   "source": [
    "X_train_reshape = X_train.reshape((X_train.shape[0], 28, 28, 1))\n",
    "X_valid_reshape = X_valid.reshape((X_valid.shape[0], 28, 28, 1))\n",
    "X_test_reshape = X_test.reshape((X_test.shape[0], 28, 28, 1))"
   ]
  },
  {
   "cell_type": "markdown",
   "metadata": {},
   "source": [
    "<br>\n",
    "\n",
    "<h3><ins>3.3.3 - CNN Architecture</ins></h3><br>\n",
    "\n",
    "We included a `Max Pool` layer in this network. These layers do not have any weights, but instead return the maximum input value from each filter pass over that part of the image.\n",
    "\n",
    "Although this is massively destructive, it preserves the <i>'brightest'</i> pixels and therefore the strongest features of the image. Here we have used a `pool size` of 2, so it divides each spatial dimension (`instances * features` or `features * filter_weights`) by a factor of 2. \n",
    "\n",
    "Finally, to help avoid overfitting, when the data reaches the fully connected network in the upper layers we have included `Dropout` after each activaiton. These layers will randomly \"kill\" some weights, setting their value to zero and thus negating any effect they have on the final prediction. \n",
    "\n",
    "\n",
    "\n",
    "![Illustration of SImple Deep Neural Network Architecture.](images/frank_cnn_1.png)\n",
    "\n",
    "---"
   ]
  },
  {
   "cell_type": "markdown",
   "metadata": {},
   "source": [
    "<br>\n",
    "\n",
    "<h3><ins>3.3.4 - CNN Implementation</ins></h3><br>\n",
    "\n",
    "We then constructed our first Convolutional Neural Network, fit the model with our reshaped data and recorded the result as our baseline accuracy. \n",
    "\n",
    "---"
   ]
  },
  {
   "cell_type": "code",
   "execution_count": 8,
   "metadata": {},
   "outputs": [],
   "source": [
    "cnn_model = keras.models.Sequential([\n",
    "    \n",
    "    keras.layers.Conv2D(12, (7, 7), activation='relu', padding='same',\n",
    "                       input_shape=[28, 28, 1]),\n",
    "    keras.layers.MaxPooling2D(2),\n",
    "    keras.layers.Conv2D(32, 3, activation='relu', padding='same'),\n",
    "    keras.layers.MaxPooling2D(2),\n",
    "    keras.layers.Conv2D(64, 3, activation='relu', padding='same'),\n",
    "    keras.layers.MaxPooling2D(2),\n",
    "    keras.layers.Flatten(),\n",
    "    keras.layers.Dense(128, activation='relu'),\n",
    "    keras.layers.Dropout(0.5),\n",
    "    keras.layers.Dense(64, activation='relu'),\n",
    "    keras.layers.Dropout(0.5),\n",
    "    keras.layers.Dense(10, activation='softmax')\n",
    "      \n",
    "])\n",
    "\n"
   ]
  },
  {
   "cell_type": "code",
   "execution_count": 9,
   "metadata": {},
   "outputs": [],
   "source": [
    "cnn_model.compile(loss=\"categorical_crossentropy\", optimizer='adam', metrics=['accuracy'])"
   ]
  },
  {
   "cell_type": "code",
   "execution_count": 12,
   "metadata": {},
   "outputs": [
    {
     "name": "stdout",
     "output_type": "stream",
     "text": [
      "Train on 59000 samples, validate on 1000 samples\n",
      "Epoch 1/20\n",
      "59000/59000 [==============================] - 8s 131us/sample - loss: 0.0678 - accuracy: 0.9823 - val_loss: 0.0414 - val_accuracy: 0.9880\n",
      "Epoch 2/20\n",
      "59000/59000 [==============================] - 8s 129us/sample - loss: 0.0560 - accuracy: 0.9851 - val_loss: 0.0182 - val_accuracy: 0.9940\n",
      "Epoch 3/20\n",
      "59000/59000 [==============================] - 8s 128us/sample - loss: 0.0477 - accuracy: 0.9867 - val_loss: 0.0247 - val_accuracy: 0.9920\n",
      "Epoch 4/20\n",
      "59000/59000 [==============================] - 8s 128us/sample - loss: 0.0459 - accuracy: 0.9877 - val_loss: 0.0253 - val_accuracy: 0.9930\n",
      "Epoch 5/20\n",
      "59000/59000 [==============================] - 7s 127us/sample - loss: 0.0420 - accuracy: 0.9883 - val_loss: 0.0301 - val_accuracy: 0.9930\n",
      "Epoch 6/20\n",
      "59000/59000 [==============================] - 8s 130us/sample - loss: 0.0375 - accuracy: 0.9897 - val_loss: 0.0306 - val_accuracy: 0.9940\n",
      "Epoch 7/20\n",
      "59000/59000 [==============================] - 8s 133us/sample - loss: 0.0362 - accuracy: 0.9899 - val_loss: 0.0271 - val_accuracy: 0.9930\n",
      "Epoch 8/20\n",
      "59000/59000 [==============================] - 7s 124us/sample - loss: 0.0325 - accuracy: 0.9906 - val_loss: 0.0932 - val_accuracy: 0.9810\n",
      "Epoch 9/20\n",
      "59000/59000 [==============================] - 7s 127us/sample - loss: 0.0304 - accuracy: 0.9912 - val_loss: 0.0581 - val_accuracy: 0.9890\n",
      "Epoch 10/20\n",
      "59000/59000 [==============================] - 7s 125us/sample - loss: 0.0300 - accuracy: 0.9917 - val_loss: 0.0341 - val_accuracy: 0.9940\n",
      "Epoch 11/20\n",
      "59000/59000 [==============================] - 8s 129us/sample - loss: 0.0267 - accuracy: 0.9926 - val_loss: 0.0476 - val_accuracy: 0.9910\n",
      "Epoch 12/20\n",
      "59000/59000 [==============================] - 8s 130us/sample - loss: 0.0248 - accuracy: 0.9930 - val_loss: 0.0345 - val_accuracy: 0.9910\n",
      "Epoch 13/20\n",
      "59000/59000 [==============================] - 8s 130us/sample - loss: 0.0255 - accuracy: 0.9933 - val_loss: 0.0480 - val_accuracy: 0.9920\n",
      "Epoch 14/20\n",
      "59000/59000 [==============================] - 8s 132us/sample - loss: 0.0253 - accuracy: 0.9934 - val_loss: 0.0274 - val_accuracy: 0.9950\n",
      "Epoch 15/20\n",
      "59000/59000 [==============================] - 8s 129us/sample - loss: 0.0216 - accuracy: 0.9939 - val_loss: 0.0641 - val_accuracy: 0.9850\n",
      "Epoch 16/20\n",
      "59000/59000 [==============================] - 8s 130us/sample - loss: 0.0245 - accuracy: 0.9934 - val_loss: 0.0485 - val_accuracy: 0.9910\n",
      "Epoch 17/20\n",
      "59000/59000 [==============================] - 8s 132us/sample - loss: 0.0169 - accuracy: 0.9949 - val_loss: 0.0630 - val_accuracy: 0.9920\n",
      "Epoch 18/20\n",
      "59000/59000 [==============================] - 8s 137us/sample - loss: 0.0218 - accuracy: 0.9941 - val_loss: 0.0507 - val_accuracy: 0.9920\n",
      "Epoch 19/20\n",
      "59000/59000 [==============================] - 8s 141us/sample - loss: 0.0238 - accuracy: 0.9935 - val_loss: 0.0303 - val_accuracy: 0.9940\n",
      "Epoch 20/20\n",
      "59000/59000 [==============================] - 8s 139us/sample - loss: 0.0217 - accuracy: 0.9937 - val_loss: 0.0590 - val_accuracy: 0.9910\n"
     ]
    }
   ],
   "source": [
    "\n",
    "cnn_history = cnn_model.fit(X_train_reshape, y_train_one_hot, epochs=20, \n",
    "                        validation_data=(X_valid_reshape, y_valid_one_hot),\n",
    "                        callbacks=[tensorboard_cb])"
   ]
  },
  {
   "cell_type": "markdown",
   "metadata": {},
   "source": [
    "<br>\n",
    "\n",
    "\n",
    "<h3><ins>3.3.5 - CNN1 Results</ins></h3><br>\n",
    "\n",
    "\n",
    "The results from our first CNN were promising with an accuracy score of `99.1%`.\n",
    "\n",
    "As we can see from the validation chart below, we have manaqed to further mitigate the overfitting problem from the previous Deep Neural Network. \n",
    "\n",
    "<br>\n",
    "\n",
    "---"
   ]
  },
  {
   "cell_type": "code",
   "execution_count": 16,
   "metadata": {},
   "outputs": [
    {
     "data": {
      "text/plain": [
       "[0.05898886369025325, 0.991]"
      ]
     },
     "execution_count": 16,
     "metadata": {},
     "output_type": "execute_result"
    }
   ],
   "source": [
    "mse_cnn__test = cnn_model.evaluate(X_valid_reshape, y_valid_one_hot, verbose=0)\n",
    "mse_cnn__test"
   ]
  },
  {
   "cell_type": "code",
   "execution_count": 17,
   "metadata": {},
   "outputs": [
    {
     "data": {
      "image/png": "[encoded data removed]",
      "text/plain": [
       "<Figure size 1080x720 with 1 Axes>"
      ]
     },
     "metadata": {
      "needs_background": "light"
     },
     "output_type": "display_data"
    }
   ],
   "source": [
    "pd.DataFrame(cnn_history.history).plot(figsize=(15, 10))\n",
    "plt.grid(True)\n",
    "plt.gca().set_ylim(0, 1)\n",
    "plt.title(\"Training and Validation Loss - Convolutional Neural Network 1.\")\n",
    "plt.ylabel(\"Accuracy\")\n",
    "plt.xlabel(\"Epochs\")\n",
    "plt.show()"
   ]
  },
  {
   "cell_type": "markdown",
   "metadata": {},
   "source": [
    "<br>\n",
    "\n",
    "<h3><ins>3.3.6 - CNN1 Unseen Kaggle Data Results</ins></h3><br>\n",
    "\n",
    "This implementation of a Convolutional Neural Net scored `95%` on the unseen Kaggle data.\n",
    "\n",
    "---"
   ]
  },
  {
   "cell_type": "markdown",
   "metadata": {},
   "source": [
    "<br>\n",
    "\n",
    "\n",
    "<h2>3.4 - Deep Convolutional Neural Network </h2><br>\n",
    "\n",
    "\n",
    "<h3><ins>3.4.1 Introduction</ins></h3><br>\n",
    "\n",
    "In an attempt to futher increase our model accuracy we began to experiment with varying architectures of Convolutional Neural Networks. \n",
    "\n",
    "Increasing the number of convolutional layers led to a marked increase in accuracy, which we surmise is due to the ability of the net to build a more detailed picture of the image.\n",
    "\n",
    "Also included in this implementation was `BatchNormalisation`. This process helps to alleviate the model's process of updating, layer-by-layer, using an estimate of the error. This error assumes the weights in the layers prior are fixed, and because all layers are changed during an update, the update procedure is always chasing a moving target. \n",
    "\n",
    "`BatchNormalisation` helps to coordinate the update of multiple layers in the model and is considered a 'de facto' part of any Deep Neural Network. \n",
    "\n",
    "Finally, for this Deep Convolutional Net, we opted for a `PReLU` (Parameteric ReLU) activation function, an adaption of the `LeakyReLU` acitvation function that allows the learning rate to be optimised using `gradient descent`. We also used an adjustable `Stochastic Gradient Descent` optimiser, with a tuned learning rate of `0.1`.\n",
    "\n",
    "---\n"
   ]
  },
  {
   "cell_type": "markdown",
   "metadata": {},
   "source": [
    "<h3><ins>3.4.2 Architecture</ins></h3><br>\n",
    "\n",
    "\n",
    "\n",
    "![Illustration of SImple Deep Neural Network Architecture.](images/frank_dcnn.png)\n",
    "\n",
    "\n"
   ]
  },
  {
   "cell_type": "markdown",
   "metadata": {},
   "source": [
    "<br>\n",
    "\n",
    "\n",
    "<h3><ins>3.4.5 Instantiate the Model</ins></h3><br>\n",
    "\n",
    "As outlined above we create our DCNN.\n",
    "\n",
    "\n",
    "\n",
    "---"
   ]
  },
  {
   "cell_type": "code",
   "execution_count": 18,
   "metadata": {},
   "outputs": [],
   "source": [
    "def build_model(input_shape=(28, 28, 1), num_classes = 10):\n",
    "    input_layer = keras.layers.Input(shape=input_shape)\n",
    "    cnn_model_aug = keras.models.Sequential([\n",
    "        \n",
    "    \n",
    "    keras.layers.Conv2D(filters=8, kernel_size=(7, 7), padding=\"valid\", name=\"conv1\"),\n",
    "    keras.layers.PReLU(),\n",
    "    keras.layers.BatchNormalization(),\n",
    "    keras.layers.Dropout(0.5),\n",
    "    keras.layers.Conv2D(filters=16, kernel_size=(5, 5), padding=\"valid\", name=\"conv2\"),\n",
    "    keras.layers.PReLU(),\n",
    "    keras.layers.Dropout(0.5),\n",
    "    keras.layers.MaxPooling2D(pool_size=(1, 1)),\n",
    "    keras.layers.Dropout(0.25),\n",
    "    keras.layers.Conv2D(filters=32, kernel_size=(3, 3), padding=\"valid\", name=\"conv3\"),\n",
    "    keras.layers.MaxPooling2D(pool_size=(1, 1)),\n",
    "    keras.layers.Conv2D(filters=64, kernel_size=(3, 3), padding=\"valid\", name=\"conv4\"),\n",
    "    keras.layers.MaxPooling2D(pool_size=(1, 1)),\n",
    "    keras.layers.Dropout(0.25),\n",
    "    keras.layers.Conv2D(filters=128, kernel_size=(2, 2), padding=\"valid\", name=\"conv5\"),\n",
    "    keras.layers.Conv2D(filters=64, kernel_size=(4, 4), padding=\"valid\", name=\"conv6\"),\n",
    "    keras.layers.MaxPooling2D(pool_size=(1, 1)),\n",
    "    keras.layers.Dropout(0.25),\n",
    "    keras.layers.Flatten(),\n",
    "    keras.layers.Dense(512, name=\"full1\"),\n",
    "    keras.layers.PReLU(),\n",
    "    keras.layers.BatchNormalization(),\n",
    "    keras.layers.Dropout(0.5),\n",
    "    keras.layers.Dense(512, name=\"full2\"),\n",
    "    keras.layers.PReLU(),\n",
    "    keras.layers.Dense(num_classes, activation='softmax'),\n",
    "                              \n",
    "                              ])\n",
    "    \n",
    "\n",
    "\n",
    "    return cnn_model_aug"
   ]
  },
  {
   "cell_type": "code",
   "execution_count": 19,
   "metadata": {},
   "outputs": [],
   "source": [
    "fresh_model = build_model()"
   ]
  },
  {
   "cell_type": "code",
   "execution_count": 20,
   "metadata": {},
   "outputs": [],
   "source": [
    "sgd = keras.optimizers.SGD(lr=0.1, momentum=0.0, decay=0.0, nesterov=False)\n",
    "fresh_model.compile(loss=\"categorical_crossentropy\", optimizer=sgd, metrics=['accuracy'])"
   ]
  },
  {
   "cell_type": "code",
   "execution_count": 24,
   "metadata": {
    "scrolled": true
   },
   "outputs": [
    {
     "name": "stdout",
     "output_type": "stream",
     "text": [
      "Train on 59000 samples, validate on 1000 samples\n",
      "Epoch 1/10000\n",
      "59000/59000 [==============================] - 13s 227us/sample - loss: 0.1220 - accuracy: 0.9630 - val_loss: 0.0415 - val_accuracy: 0.9870\n",
      "Epoch 2/10000\n",
      "59000/59000 [==============================] - 13s 223us/sample - loss: 0.1053 - accuracy: 0.9678 - val_loss: 0.0774 - val_accuracy: 0.9790\n",
      "Epoch 3/10000\n",
      "59000/59000 [==============================] - 13s 220us/sample - loss: 0.0921 - accuracy: 0.9723 - val_loss: 0.0694 - val_accuracy: 0.9790\n",
      "Epoch 4/10000\n",
      "59000/59000 [==============================] - 14s 232us/sample - loss: 0.0867 - accuracy: 0.9732 - val_loss: 0.0466 - val_accuracy: 0.9850\n",
      "Epoch 5/10000\n",
      "59000/59000 [==============================] - 13s 219us/sample - loss: 0.0784 - accuracy: 0.9761 - val_loss: 0.0515 - val_accuracy: 0.9850\n",
      "Epoch 6/10000\n",
      "59000/59000 [==============================] - 13s 223us/sample - loss: 0.0698 - accuracy: 0.9784 - val_loss: 0.0427 - val_accuracy: 0.9890\n",
      "Epoch 7/10000\n",
      "59000/59000 [==============================] - 13s 222us/sample - loss: 0.0695 - accuracy: 0.9777 - val_loss: 0.0350 - val_accuracy: 0.9900\n",
      "Epoch 8/10000\n",
      "59000/59000 [==============================] - 13s 215us/sample - loss: 0.0636 - accuracy: 0.9800 - val_loss: 0.0455 - val_accuracy: 0.9850\n",
      "Epoch 9/10000\n",
      "59000/59000 [==============================] - 13s 225us/sample - loss: 0.0614 - accuracy: 0.9805 - val_loss: 0.0323 - val_accuracy: 0.9910\n",
      "Epoch 10/10000\n",
      "59000/59000 [==============================] - 13s 228us/sample - loss: 0.0596 - accuracy: 0.9821 - val_loss: 0.0370 - val_accuracy: 0.9920\n",
      "Epoch 11/10000\n",
      "59000/59000 [==============================] - 13s 223us/sample - loss: 0.0556 - accuracy: 0.9828 - val_loss: 0.0353 - val_accuracy: 0.9920\n",
      "Epoch 12/10000\n",
      "59000/59000 [==============================] - 13s 226us/sample - loss: 0.0537 - accuracy: 0.9829 - val_loss: 0.0349 - val_accuracy: 0.9880\n",
      "Epoch 13/10000\n",
      "59000/59000 [==============================] - 13s 228us/sample - loss: 0.0530 - accuracy: 0.9834 - val_loss: 0.0378 - val_accuracy: 0.9880\n",
      "Epoch 14/10000\n",
      "59000/59000 [==============================] - 13s 227us/sample - loss: 0.0506 - accuracy: 0.9841 - val_loss: 0.0407 - val_accuracy: 0.9890\n",
      "Epoch 15/10000\n",
      "59000/59000 [==============================] - 13s 222us/sample - loss: 0.0507 - accuracy: 0.9840 - val_loss: 0.0303 - val_accuracy: 0.9880\n",
      "Epoch 16/10000\n",
      "59000/59000 [==============================] - 13s 223us/sample - loss: 0.0477 - accuracy: 0.9845 - val_loss: 0.0634 - val_accuracy: 0.9770\n",
      "Epoch 17/10000\n",
      "59000/59000 [==============================] - 13s 221us/sample - loss: 0.0451 - accuracy: 0.9859 - val_loss: 0.0376 - val_accuracy: 0.9890\n",
      "Epoch 18/10000\n",
      "59000/59000 [==============================] - 13s 225us/sample - loss: 0.0423 - accuracy: 0.9866 - val_loss: 0.0408 - val_accuracy: 0.9890\n",
      "Epoch 19/10000\n",
      "59000/59000 [==============================] - 13s 226us/sample - loss: 0.0441 - accuracy: 0.9858 - val_loss: 0.0244 - val_accuracy: 0.9920\n",
      "Epoch 20/10000\n",
      "59000/59000 [==============================] - 14s 233us/sample - loss: 0.0418 - accuracy: 0.9865 - val_loss: 0.0416 - val_accuracy: 0.9870\n",
      "Epoch 21/10000\n",
      "59000/59000 [==============================] - 14s 234us/sample - loss: 0.0424 - accuracy: 0.9865 - val_loss: 0.0463 - val_accuracy: 0.9850\n",
      "Epoch 22/10000\n",
      "59000/59000 [==============================] - 13s 228us/sample - loss: 0.0422 - accuracy: 0.9865 - val_loss: 0.0292 - val_accuracy: 0.9920\n",
      "Epoch 23/10000\n",
      "59000/59000 [==============================] - 14s 238us/sample - loss: 0.0407 - accuracy: 0.9867 - val_loss: 0.0432 - val_accuracy: 0.9910\n",
      "Epoch 24/10000\n",
      "59000/59000 [==============================] - 14s 232us/sample - loss: 0.0406 - accuracy: 0.9871 - val_loss: 0.0359 - val_accuracy: 0.9910\n",
      "Epoch 25/10000\n",
      "59000/59000 [==============================] - 14s 241us/sample - loss: 0.0380 - accuracy: 0.9879 - val_loss: 0.0235 - val_accuracy: 0.9940\n",
      "Epoch 26/10000\n",
      "59000/59000 [==============================] - 14s 238us/sample - loss: 0.0389 - accuracy: 0.9875 - val_loss: 0.0503 - val_accuracy: 0.9850\n",
      "Epoch 27/10000\n",
      "59000/59000 [==============================] - 13s 227us/sample - loss: 0.0340 - accuracy: 0.9888 - val_loss: 0.0390 - val_accuracy: 0.9880\n",
      "Epoch 28/10000\n",
      "59000/59000 [==============================] - 13s 228us/sample - loss: 0.0353 - accuracy: 0.9886 - val_loss: 0.0286 - val_accuracy: 0.9930\n",
      "Epoch 29/10000\n",
      "59000/59000 [==============================] - 14s 230us/sample - loss: 0.0359 - accuracy: 0.9884 - val_loss: 0.0455 - val_accuracy: 0.9850\n",
      "Epoch 30/10000\n",
      "59000/59000 [==============================] - 13s 225us/sample - loss: 0.0344 - accuracy: 0.9881 - val_loss: 0.0345 - val_accuracy: 0.9920\n",
      "Epoch 31/10000\n",
      "59000/59000 [==============================] - 13s 226us/sample - loss: 0.0372 - accuracy: 0.9886 - val_loss: 0.0432 - val_accuracy: 0.9930\n",
      "Epoch 32/10000\n",
      "59000/59000 [==============================] - 13s 226us/sample - loss: 0.0333 - accuracy: 0.9894 - val_loss: 0.0480 - val_accuracy: 0.9880\n",
      "Epoch 33/10000\n",
      "59000/59000 [==============================] - 13s 224us/sample - loss: 0.0314 - accuracy: 0.9899 - val_loss: 0.0516 - val_accuracy: 0.9830\n"
     ]
    }
   ],
   "source": [
    "dcnn_history = fresh_model.fit(X_train_reshape, y_train_one_hot, epochs=10000,batch_size=32,\n",
    "                        validation_data=(X_valid_reshape, y_valid_one_hot),\n",
    "                        callbacks=[tensorboard_cb, keras.callbacks.EarlyStopping(patience=8)])"
   ]
  },
  {
   "cell_type": "markdown",
   "metadata": {},
   "source": [
    "<br>\n",
    "\n",
    "\n",
    "<h3><ins>3.4.5 DCNN Results</ins></h3><br>\n",
    "\n",
    "Our Deep Convolutional Network performed well on the validation data at `98%`, while also resulting in one of our highest scores on the unseen Kaggle data at `96%`.\n",
    "\n",
    "<br>"
   ]
  },
  {
   "cell_type": "code",
   "execution_count": 25,
   "metadata": {},
   "outputs": [
    {
     "data": {
      "text/plain": [
       "[0.05157794326357543, 0.983]"
      ]
     },
     "execution_count": 25,
     "metadata": {},
     "output_type": "execute_result"
    }
   ],
   "source": [
    "mse_dcnn__test = fresh_model.evaluate(X_valid_reshape, y_valid_one_hot, verbose=0)\n",
    "mse_dcnn__test"
   ]
  },
  {
   "cell_type": "code",
   "execution_count": 26,
   "metadata": {},
   "outputs": [
    {
     "data": {
      "image/png": "[encoded data removed]",
      "text/plain": [
       "<Figure size 1080x720 with 1 Axes>"
      ]
     },
     "metadata": {
      "needs_background": "light"
     },
     "output_type": "display_data"
    }
   ],
   "source": [
    "pd.DataFrame(dcnn_history.history).plot(figsize=(15, 10))\n",
    "plt.grid(True)\n",
    "plt.gca().set_ylim(0, 1)\n",
    "plt.title(\"Training and Validation Loss - Deep Convolutional Neural Network.\")\n",
    "plt.ylabel(\"Accuracy\")\n",
    "plt.xlabel(\"Epochs\")\n",
    "plt.show()"
   ]
  },
  {
   "cell_type": "markdown",
   "metadata": {},
   "source": [
    "## 3.4 Custom ConvNet with regularization"
   ]
  },
  {
   "cell_type": "markdown",
   "metadata": {},
   "source": [
    "### 3.4.1 - Introduction\n",
    "\n",
    "\n",
    "This is also a custom 13 layer Convolutional Neural Net, but here we have attempted to use `regularisation` techniques to make a better generalisation on the output, although this particular model didn't perform spectacularly on the first 30% of the kaggle data.\n",
    "\n",
    "---"
   ]
  },
  {
   "cell_type": "markdown",
   "metadata": {},
   "source": [
    "### 3.4.2 Import Modules\n",
    "---\n"
   ]
  },
  {
   "cell_type": "code",
   "execution_count": 2,
   "metadata": {},
   "outputs": [],
   "source": [
    "import numpy as np \n",
    "import pandas as pd \n",
    "import matplotlib.pyplot as plt \n",
    "from sklearn.model_selection import train_test_split\n",
    "import np_utils\n",
    "import tensorflow as tf\n",
    "from tensorflow.keras import Sequential\n",
    "from tensorflow.keras.layers import Conv2D, Dropout, Dense, Flatten, BatchNormalization, MaxPooling2D,LeakyReLU\n",
    "from tensorflow.keras.optimizers import RMSprop,Nadam,Adadelta\n",
    "from tensorflow.keras.preprocessing.image import ImageDataGenerator\n",
    "from tensorflow.keras.callbacks import ReduceLROnPlateau, EarlyStopping\n",
    "from tensorflow.keras.utils import to_categorical\n",
    "from tensorflow.keras.regularizers import l2\n",
    "\n",
    "import warnings\n",
    "warnings.filterwarnings('ignore')\n",
    "\n",
    "import os"
   ]
  },
  {
   "cell_type": "markdown",
   "metadata": {},
   "source": [
    "<br>\n",
    "\n",
    "Here we check that `Tensorflow` is accessing our GPU. \n",
    "\n",
    "\n",
    "<br>"
   ]
  },
  {
   "cell_type": "code",
   "execution_count": 2,
   "metadata": {},
   "outputs": [
    {
     "data": {
      "text/plain": [
       "'/device:GPU:0'"
      ]
     },
     "execution_count": 2,
     "metadata": {},
     "output_type": "execute_result"
    }
   ],
   "source": [
    "tf.test.gpu_device_name()"
   ]
  },
  {
   "cell_type": "markdown",
   "metadata": {},
   "source": [
    "### 3.4.3 Reading the data <br>\n",
    "\n",
    "The data is loaded from the original csv files.\n",
    "\n",
    "\n",
    "<br>\n",
    "\n"
   ]
  },
  {
   "cell_type": "code",
   "execution_count": 4,
   "metadata": {
    "_cell_guid": "79c7e3d0-c299-4dcb-8224-4455121ee9b0",
    "_uuid": "d629ff2d2480ee46fbb7e2d37f6b5fab8052498a",
    "scrolled": true
   },
   "outputs": [],
   "source": [
    "raw_train = pd.read_csv('../data/kannada_mnist/cs98x-kannada-mnist/training.csv')\n",
    "raw_test = pd.read_csv('../data/kannada_mnist/cs98x-kannada-mnist/test.csv')"
   ]
  },
  {
   "cell_type": "markdown",
   "metadata": {},
   "source": [
    "### 3.4.4 Preprocess Data with Visual <br>\n",
    "\n",
    "As mentioned above, the preprocessing steps required for MNIST are minimal compared to other machine learning projects, with less scope for feature engineering or extraction. \n",
    "\n",
    "For posterity we visualise a sample of the data before `normalising` the pixels. \n",
    "\n",
    "---\n"
   ]
  },
  {
   "cell_type": "code",
   "execution_count": 5,
   "metadata": {},
   "outputs": [
    {
     "name": "stdout",
     "output_type": "stream",
     "text": [
      "Picture of 6 in Kannada\n"
     ]
    },
    {
     "data": {
      "image/png": "[encoded data removed]",
      "text/plain": [
       "<Figure size 432x288 with 1 Axes>"
      ]
     },
     "metadata": {
      "needs_background": "light"
     },
     "output_type": "display_data"
    }
   ],
   "source": [
    "num=6\n",
    "number = raw_train.iloc[num,2:].values.reshape(28,28)\n",
    "print(\"Picture of \"+ str(num) + \" in Kannada\")\n",
    "plt.imshow(number, cmap=plt.get_cmap('gray'))\n",
    "plt.show()\n"
   ]
  },
  {
   "cell_type": "code",
   "execution_count": 6,
   "metadata": {},
   "outputs": [],
   "source": [
    "x = raw_train.iloc[:, 2:].values.astype('float32') / 255\n",
    "y = raw_train.iloc[:, 1] # labels"
   ]
  },
  {
   "cell_type": "code",
   "execution_count": 7,
   "metadata": {},
   "outputs": [],
   "source": [
    "x_train, x_val, y_train, y_val = train_test_split(x, y, test_size = 0.2, random_state=42) "
   ]
  },
  {
   "cell_type": "code",
   "execution_count": 8,
   "metadata": {},
   "outputs": [
    {
     "data": {
      "text/plain": [
       "(48000, 784)"
      ]
     },
     "execution_count": 8,
     "metadata": {},
     "output_type": "execute_result"
    }
   ],
   "source": [
    "x_train.shape"
   ]
  },
  {
   "cell_type": "code",
   "execution_count": 9,
   "metadata": {},
   "outputs": [],
   "source": [
    "x_train = x_train.reshape(-1, 28, 28,1)\n",
    "x_val = x_val.reshape(-1, 28, 28,1)\n",
    "y_train = to_categorical(y_train)\n",
    "y_val = to_categorical(y_val)"
   ]
  },
  {
   "cell_type": "markdown",
   "metadata": {},
   "source": [
    "### 3.4.5 Defining the model\n",
    "---\n",
    "\n",
    "After many experimental attempts we achieved optimal convergence with the following architecture, by implementing strategies such as `batch normalization` and `dropout`. The `momentum` chosen below is random, however tuning this parameter had no noticible effect on the convergence capabilities of the model.\n",
    "\n",
    "<br>\n"
   ]
  },
  {
   "cell_type": "code",
   "execution_count": 10,
   "metadata": {},
   "outputs": [],
   "source": [
    "model = tf.keras.models.Sequential([\n",
    "    tf.keras.layers.Conv2D(64, (3,3), padding='same', input_shape=(28, 28, 1)),\n",
    "    tf.keras.layers.BatchNormalization(momentum=0.9, epsilon=1e-5, gamma_initializer=\"uniform\"),\n",
    "    tf.keras.layers.LeakyReLU(alpha=0.1),\n",
    "    tf.keras.layers.Conv2D(64,  (3,3), padding='same'),\n",
    "    tf.keras.layers.BatchNormalization(momentum=0.9, epsilon=1e-5, gamma_initializer=\"uniform\"),\n",
    "    tf.keras.layers.LeakyReLU(alpha=0.1),\n",
    "    tf.keras.layers.Conv2D(64,  (3,3), padding='same'),\n",
    "    tf.keras.layers.BatchNormalization(momentum=0.9, epsilon=1e-5, gamma_initializer=\"uniform\"),\n",
    "    tf.keras.layers.LeakyReLU(alpha=0.1),\n",
    "\n",
    "    tf.keras.layers.MaxPooling2D(2, 2),\n",
    "    tf.keras.layers.Dropout(0.25),\n",
    "    \n",
    "    tf.keras.layers.Conv2D(128, (3,3), padding='same'),\n",
    "    tf.keras.layers.BatchNormalization(momentum=0.9, epsilon=1e-5, gamma_initializer=\"uniform\"),\n",
    "    tf.keras.layers.LeakyReLU(alpha=0.1),\n",
    "    tf.keras.layers.Conv2D(128, (3,3), padding='same'),\n",
    "    tf.keras.layers.BatchNormalization(momentum=0.9, epsilon=1e-5, gamma_initializer=\"uniform\"),\n",
    "    tf.keras.layers.LeakyReLU(alpha=0.1),\n",
    "    tf.keras.layers.Conv2D(128, (3,3), padding='same'),\n",
    "    tf.keras.layers.BatchNormalization(momentum=0.9, epsilon=1e-5, gamma_initializer=\"uniform\"),\n",
    "    tf.keras.layers.LeakyReLU(alpha=0.1),\n",
    "    \n",
    "    tf.keras.layers.MaxPooling2D(2,2),\n",
    "    tf.keras.layers.Dropout(0.25),    \n",
    "    \n",
    "    tf.keras.layers.Conv2D(256, (3,3), padding='same'),\n",
    "    tf.keras.layers.BatchNormalization(momentum=0.9, epsilon=1e-5, gamma_initializer=\"uniform\"),\n",
    "    tf.keras.layers.LeakyReLU(alpha=0.1),\n",
    "    tf.keras.layers.Conv2D(256, (3,3), padding='same'),\n",
    "    tf.keras.layers.BatchNormalization(momentum=0.9, epsilon=1e-5, gamma_initializer=\"uniform\"),##\n",
    "    tf.keras.layers.LeakyReLU(alpha=0.1),\n",
    "\n",
    "    tf.keras.layers.MaxPooling2D(2,2),\n",
    "    tf.keras.layers.Dropout(0.25),\n",
    "    \n",
    "    \n",
    "    tf.keras.layers.Flatten(),\n",
    "    tf.keras.layers.Dense(256),\n",
    "    tf.keras.layers.LeakyReLU(alpha=0.1),\n",
    " \n",
    "    tf.keras.layers.BatchNormalization(),\n",
    "    tf.keras.layers.Dense(10, activation='softmax')\n",
    "])"
   ]
  },
  {
   "cell_type": "code",
   "execution_count": 11,
   "metadata": {},
   "outputs": [],
   "source": [
    "optimizer = RMSprop(learning_rate=0.002,###########optimizer = RMSprop(learning_rate=0.0025,###########\n",
    "    rho=0.9,\n",
    "    momentum=0.1,\n",
    "    epsilon=1e-07,\n",
    "    centered=True,\n",
    "    name='RMSprop')\n",
    "model.compile(loss='categorical_crossentropy',\n",
    "              optimizer=optimizer,\n",
    "              metrics=['accuracy'])"
   ]
  },
  {
   "cell_type": "code",
   "execution_count": 12,
   "metadata": {},
   "outputs": [],
   "source": [
    "batch_size = 64\n",
    "num_classes = 10\n",
    "epochs = 40"
   ]
  },
  {
   "cell_type": "markdown",
   "metadata": {},
   "source": [
    "### 3.4.6 Doing data Augmentation\n",
    "---\n",
    "\n",
    "\n",
    "As a means of improving our model we used `data augmentation`, the process of transforming our orginal images across multiple dimensions in an attempt to encourage better generalisation. \n",
    "\n",
    "The transformation operations we performed are as follows: <br>\n",
    "\n",
    "`rotation `: Randomly rotate the images around the center by a maximum of 15 degrees <br>\n",
    "`width shift`: Move the image slightly out of frame on the horizontel axis, resulting in partial visibility<br>\n",
    "`height shift`: Move the image slightly out of frame on the vertical axis, resulting in partial visibililty<br>\n",
    "`zooming`: Zoom in and out of the image so certain features get amplified.<br>\n",
    " \n",
    "We used built-in `Tensorflow` objects (such as the `ImageDataGenerator`) to perform these augmentations. \n",
    "\n",
    "This new data is then added to our original dataset and another model is trained using our increased image set. \n",
    "\n",
    " \n",
    "<br>"
   ]
  },
  {
   "cell_type": "code",
   "execution_count": 13,
   "metadata": {},
   "outputs": [
    {
     "data": {
      "image/png": "[encoded data removed]",
      "text/plain": [
       "<Figure size 432x288 with 9 Axes>"
      ]
     },
     "metadata": {
      "needs_background": "light"
     },
     "output_type": "display_data"
    }
   ],
   "source": [
    "\n",
    "datagen_try = ImageDataGenerator(rotation_range=15,\n",
    "                             width_shift_range = 0.15,\n",
    "                             height_shift_range = 0.15,\n",
    "                             shear_range = 0.15,\n",
    "                             zoom_range = 0.4,)\n",
    "# fit parameters from data\n",
    "datagen_try.fit(x_train)\n",
    "# configure batch size and retrieve one batch of images\n",
    "for x_batch, y_batch in datagen_try.flow(x_train, y_train, batch_size=9):\n",
    "    for i in range(0, 9):\n",
    "        plt.subplot(330 + 1 + i)\n",
    "        plt.imshow(x_batch[i].reshape(28, 28), cmap=plt.get_cmap('gray'))\n",
    "    plt.show()\n",
    "    break"
   ]
  },
  {
   "cell_type": "code",
   "execution_count": 14,
   "metadata": {},
   "outputs": [],
   "source": [
    "datagen_train = ImageDataGenerator(rotation_range = 10,\n",
    "                                   width_shift_range = 0.25,\n",
    "                                   height_shift_range = 0.25,\n",
    "                                   shear_range = 0.1,\n",
    "                                   zoom_range = 0.4,\n",
    "                                   horizontal_flip = False)\n",
    "\n",
    "datagen_val = ImageDataGenerator() \n",
    "\n",
    "\n",
    "step_train = x_train.shape[0] // batch_size\n",
    "step_val = x_val.shape[0] // batch_size\n",
    "\n",
    "learning_rate_reduction = tf.keras.callbacks.ReduceLROnPlateau( \n",
    "    monitor='loss',    # Quantity to be monitored.\n",
    "    factor=0.25,       # Factor by which the learning rate will be reduced. new_lr = lr * factor\n",
    "    patience=2,        # The number of epochs with no improvement after which learning rate will be reduced.\n",
    "    verbose=1,         # 0: quiet - 1: update messages.\n",
    "    mode=\"auto\",       # {auto, min, max}. In min mode, lr will be reduced when the quantity monitored has stopped decreasing; \n",
    "                       # in the max mode it will be reduced when the quantity monitored has stopped increasing; \n",
    "                       # in auto mode, the direction is automatically inferred from the name of the monitored quantity.\n",
    "    min_delta=0.0001,  # threshold for measuring the new optimum, to only focus on significant changes.\n",
    "    cooldown=0,        # number of epochs to wait before resuming normal operation after learning rate (lr) has been reduced.\n",
    "    min_lr=0.00001     # lower bound on the learning rate.\n",
    "    )\n",
    "\n",
    "es = EarlyStopping(monitor='val_loss', mode='min', verbose=1, patience=300, restore_best_weights=True)"
   ]
  },
  {
   "cell_type": "code",
   "execution_count": 15,
   "metadata": {},
   "outputs": [
    {
     "name": "stdout",
     "output_type": "stream",
     "text": [
      "WARNING:tensorflow:sample_weight modes were coerced from\n",
      "  ...\n",
      "    to  \n",
      "  ['...']\n",
      "Train for 750 steps, validate on 12000 samples\n",
      "Epoch 1/40\n",
      "750/750 - 21s - loss: 0.4728 - accuracy: 0.8453 - val_loss: 0.0241 - val_accuracy: 0.9728\n",
      "Epoch 2/40\n",
      "750/750 - 18s - loss: 0.1863 - accuracy: 0.9388 - val_loss: 0.0140 - val_accuracy: 0.9847\n",
      "Epoch 3/40\n",
      "750/750 - 18s - loss: 0.1520 - accuracy: 0.9517 - val_loss: 0.0156 - val_accuracy: 0.9837\n",
      "Epoch 4/40\n",
      "750/750 - 18s - loss: 0.1308 - accuracy: 0.9580 - val_loss: 0.0101 - val_accuracy: 0.9916\n",
      "Epoch 5/40\n",
      "750/750 - 18s - loss: 0.1183 - accuracy: 0.9622 - val_loss: 0.0068 - val_accuracy: 0.9934\n",
      "Epoch 6/40\n",
      "750/750 - 18s - loss: 0.1074 - accuracy: 0.9658 - val_loss: 0.0082 - val_accuracy: 0.9922\n",
      "Epoch 7/40\n",
      "750/750 - 18s - loss: 0.1052 - accuracy: 0.9653 - val_loss: 0.0079 - val_accuracy: 0.9928\n",
      "Epoch 8/40\n",
      "750/750 - 18s - loss: 0.0967 - accuracy: 0.9687 - val_loss: 0.0071 - val_accuracy: 0.9934\n",
      "Epoch 9/40\n",
      "750/750 - 18s - loss: 0.0948 - accuracy: 0.9702 - val_loss: 0.0069 - val_accuracy: 0.9928\n",
      "Epoch 10/40\n",
      "750/750 - 18s - loss: 0.0889 - accuracy: 0.9710 - val_loss: 0.0079 - val_accuracy: 0.9919\n",
      "Epoch 11/40\n",
      "750/750 - 18s - loss: 0.0832 - accuracy: 0.9728 - val_loss: 0.0069 - val_accuracy: 0.9934\n",
      "Epoch 12/40\n",
      "750/750 - 18s - loss: 0.0835 - accuracy: 0.9727 - val_loss: 0.0073 - val_accuracy: 0.9900\n",
      "Epoch 13/40\n",
      "750/750 - 18s - loss: 0.0807 - accuracy: 0.9741 - val_loss: 0.0120 - val_accuracy: 0.9897\n",
      "Epoch 14/40\n",
      "750/750 - 18s - loss: 0.0810 - accuracy: 0.9739 - val_loss: 0.0073 - val_accuracy: 0.9931\n",
      "Epoch 15/40\n",
      "750/750 - 18s - loss: 0.0778 - accuracy: 0.9743 - val_loss: 0.0064 - val_accuracy: 0.9944\n",
      "Epoch 16/40\n",
      "750/750 - 18s - loss: 0.0771 - accuracy: 0.9755 - val_loss: 0.0068 - val_accuracy: 0.9931\n",
      "Epoch 17/40\n",
      "750/750 - 18s - loss: 0.0747 - accuracy: 0.9760 - val_loss: 0.0066 - val_accuracy: 0.9944\n",
      "Epoch 18/40\n",
      "750/750 - 18s - loss: 0.0736 - accuracy: 0.9761 - val_loss: 0.0062 - val_accuracy: 0.9941\n",
      "Epoch 19/40\n",
      "750/750 - 19s - loss: 0.0703 - accuracy: 0.9767 - val_loss: 0.0066 - val_accuracy: 0.9947\n",
      "Epoch 20/40\n",
      "750/750 - 18s - loss: 0.0671 - accuracy: 0.9784 - val_loss: 0.0062 - val_accuracy: 0.9953\n",
      "Epoch 21/40\n",
      "750/750 - 18s - loss: 0.0701 - accuracy: 0.9778 - val_loss: 0.0037 - val_accuracy: 0.9966\n",
      "Epoch 22/40\n",
      "750/750 - 18s - loss: 0.0660 - accuracy: 0.9781 - val_loss: 0.0062 - val_accuracy: 0.9953\n",
      "Epoch 23/40\n",
      "750/750 - 18s - loss: 0.0703 - accuracy: 0.9778 - val_loss: 0.0067 - val_accuracy: 0.9937\n",
      "Epoch 24/40\n",
      "750/750 - 18s - loss: 0.0634 - accuracy: 0.9795 - val_loss: 0.0060 - val_accuracy: 0.9947\n",
      "Epoch 25/40\n",
      "750/750 - 18s - loss: 0.0653 - accuracy: 0.9783 - val_loss: 0.0038 - val_accuracy: 0.9950\n",
      "Epoch 26/40\n",
      "\n",
      "Epoch 00026: ReduceLROnPlateau reducing learning rate to 0.0005000000237487257.\n",
      "750/750 - 18s - loss: 0.0638 - accuracy: 0.9794 - val_loss: 0.0056 - val_accuracy: 0.9953\n",
      "Epoch 27/40\n",
      "750/750 - 18s - loss: 0.0550 - accuracy: 0.9824 - val_loss: 0.0040 - val_accuracy: 0.9969\n",
      "Epoch 28/40\n",
      "750/750 - 18s - loss: 0.0482 - accuracy: 0.9845 - val_loss: 0.0039 - val_accuracy: 0.9966\n",
      "Epoch 29/40\n",
      "750/750 - 19s - loss: 0.0458 - accuracy: 0.9850 - val_loss: 0.0040 - val_accuracy: 0.9969\n",
      "Epoch 30/40\n",
      "750/750 - 18s - loss: 0.0486 - accuracy: 0.9834 - val_loss: 0.0045 - val_accuracy: 0.9959\n",
      "Epoch 31/40\n",
      "\n",
      "Epoch 00031: ReduceLROnPlateau reducing learning rate to 0.0001250000059371814.\n",
      "750/750 - 18s - loss: 0.0462 - accuracy: 0.9850 - val_loss: 0.0041 - val_accuracy: 0.9969\n",
      "Epoch 32/40\n",
      "750/750 - 18s - loss: 0.0441 - accuracy: 0.9848 - val_loss: 0.0039 - val_accuracy: 0.9969\n",
      "Epoch 33/40\n",
      "750/750 - 18s - loss: 0.0445 - accuracy: 0.9851 - val_loss: 0.0042 - val_accuracy: 0.9969\n",
      "Epoch 34/40\n",
      "750/750 - 18s - loss: 0.0425 - accuracy: 0.9857 - val_loss: 0.0037 - val_accuracy: 0.9969\n",
      "Epoch 35/40\n",
      "750/750 - 18s - loss: 0.0441 - accuracy: 0.9854 - val_loss: 0.0044 - val_accuracy: 0.9966\n",
      "Epoch 36/40\n",
      "750/750 - 18s - loss: 0.0419 - accuracy: 0.9862 - val_loss: 0.0038 - val_accuracy: 0.9969\n",
      "Epoch 37/40\n",
      "750/750 - 18s - loss: 0.0406 - accuracy: 0.9866 - val_loss: 0.0040 - val_accuracy: 0.9969\n",
      "Epoch 38/40\n",
      "750/750 - 18s - loss: 0.0392 - accuracy: 0.9870 - val_loss: 0.0041 - val_accuracy: 0.9969\n",
      "Epoch 39/40\n",
      "750/750 - 18s - loss: 0.0423 - accuracy: 0.9852 - val_loss: 0.0042 - val_accuracy: 0.9969\n",
      "Epoch 40/40\n",
      "\n",
      "Epoch 00040: ReduceLROnPlateau reducing learning rate to 3.125000148429535e-05.\n",
      "750/750 - 18s - loss: 0.0434 - accuracy: 0.9856 - val_loss: 0.0042 - val_accuracy: 0.9962\n"
     ]
    }
   ],
   "source": [
    "history = model.fit(datagen_train.flow(x_train, y_train, batch_size=batch_size),\n",
    "                              steps_per_epoch=len(x_train)//batch_size,\n",
    "                              epochs=epochs,\n",
    "                              validation_data=(x_val, y_val),\n",
    "                              validation_steps=50,\n",
    "                              callbacks=[learning_rate_reduction, es],\n",
    "                              verbose=2)"
   ]
  },
  {
   "cell_type": "code",
   "execution_count": 16,
   "metadata": {},
   "outputs": [
    {
     "data": {
      "image/png": "[encoded data removed]",
      "text/plain": [
       "<Figure size 432x288 with 1 Axes>"
      ]
     },
     "metadata": {
      "needs_background": "light"
     },
     "output_type": "display_data"
    },
    {
     "data": {
      "image/png": "[encoded data removed]",
      "text/plain": [
       "<Figure size 432x288 with 1 Axes>"
      ]
     },
     "metadata": {
      "needs_background": "light"
     },
     "output_type": "display_data"
    }
   ],
   "source": [
    "plt.plot(history.history['accuracy'])\n",
    "plt.plot(history.history['val_accuracy'])\n",
    "plt.title('Model accuracy')\n",
    "plt.ylabel('Accuracy')\n",
    "plt.xlabel('Epoch')\n",
    "plt.legend(['Train', 'Validation'], loc='upper left')\n",
    "plt.show()\n",
    "\n",
    "# Plot training & validation loss values\n",
    "plt.plot(history.history['loss'])\n",
    "plt.plot(history.history['val_loss'])\n",
    "plt.title('Model loss')\n",
    "plt.ylabel('Loss')\n",
    "plt.xlabel('Epoch')\n",
    "plt.legend(['Train', 'Validation'], loc='upper left')\n",
    "plt.show()"
   ]
  },
  {
   "cell_type": "markdown",
   "metadata": {},
   "source": [
    "### Results of the model\n"
   ]
  },
  {
   "cell_type": "markdown",
   "metadata": {},
   "source": [
    "### 3.4.7 Test Set Accuracy Score <br>\n",
    "\n",
    "The additional data augmentation increased our performance by three percent on the unseen data"
   ]
  },
  {
   "cell_type": "code",
   "execution_count": 17,
   "metadata": {},
   "outputs": [
    {
     "name": "stdout",
     "output_type": "stream",
     "text": [
      "12000/12000 - 2s - loss: 0.0146 - accuracy: 0.9958\n"
     ]
    }
   ],
   "source": [
    "model.evaluate(x_val, y_val, verbose=2);"
   ]
  },
  {
   "cell_type": "markdown",
   "metadata": {},
   "source": [
    "### 3.4.8 Confusion Matrix\n",
    "\n",
    "The confusion matrix below shows the ground truth value vs. the predicted value of the model. A straight like-colored diagonal line across the center means we have a good fitting model at hand"
   ]
  },
  {
   "cell_type": "code",
   "execution_count": 22,
   "metadata": {},
   "outputs": [],
   "source": [
    "y_predicted = model.predict(x_val)\n",
    "y_ground_truth = y_val\n",
    "y_predicted = np.argmax(y_predicted,axis=1)\n",
    "y_ground_truth = np.argmax(y_ground_truth,axis=1)\n",
    "from sklearn.metrics import confusion_matrix\n",
    "cm = confusion_matrix(y_ground_truth, y_predicted)"
   ]
  },
  {
   "cell_type": "code",
   "execution_count": 27,
   "metadata": {},
   "outputs": [
    {
     "data": {
      "image/png": "[encoded data removed]",
      "text/plain": [
       "<Figure size 720x720 with 2 Axes>"
      ]
     },
     "metadata": {
      "needs_background": "light"
     },
     "output_type": "display_data"
    }
   ],
   "source": [
    "import seaborn as sns\n",
    "f, ax = plt.subplots(figsize=(10,10))\n",
    "sns.heatmap(cm,fmt=\".0f\", annot=True,linewidths=0.01, ax=ax)\n",
    "plt.xlabel(\"Predicted\")\n",
    "plt.ylabel(\"Ground Truth\")\n",
    "plt.show()"
   ]
  },
  {
   "cell_type": "code",
   "execution_count": 28,
   "metadata": {},
   "outputs": [],
   "source": [
    "scores = np.zeros((10,3))\n",
    "def calc_F1(num):\n",
    "  TP = cm[num,num]\n",
    "  FN = np.sum(cm[num,:])-cm[num,num]\n",
    "  FP = np.sum(cm[:,num])-cm[num,num]\n",
    "  precision = TP/(TP+FP)\n",
    "  recall = TP/(TP+FN)\n",
    "  F1_score = 2*(recall * precision) / (recall + precision)\n",
    "  return precision, recall, F1_score\n",
    "for i in range(10):\n",
    "   precision, recall, F1_score = calc_F1(i)\n",
    "   scores[i,:] = precision, recall, F1_score\n",
    "scores_frame = pd.DataFrame(scores,columns=[\"Precision\", \"Recall\", \"F1 Score\"], index=[list(range(0, 10))])"
   ]
  },
  {
   "cell_type": "code",
   "execution_count": 29,
   "metadata": {},
   "outputs": [
    {
     "data": {
      "image/png": "[encoded data removed]",
      "text/plain": [
       "<Figure size 288x432 with 2 Axes>"
      ]
     },
     "metadata": {
      "needs_background": "light"
     },
     "output_type": "display_data"
    }
   ],
   "source": [
    "f, ax = plt.subplots(figsize = (4,6))\n",
    "ax.set_title('Number Scores')\n",
    "sns.heatmap(scores_frame, annot=True, fmt=\".3f\", linewidths=0.5, cmap=\"PuBu\", cbar=True, ax=ax)\n",
    "bottom, top = ax.get_ylim()\n",
    "plt.ylabel(\"\")\n",
    "ax.set_ylim(bottom + 0.5, top - 0.5)\n",
    "plt.show()"
   ]
  },
  {
   "cell_type": "markdown",
   "metadata": {},
   "source": [
    "### 3.4.9 Submit for Competition\n"
   ]
  },
  {
   "cell_type": "code",
   "execution_count": null,
   "metadata": {},
   "outputs": [],
   "source": [
    "sample_sub=pd.read_csv('../data/kannada_mnist/cs98x-kannada-mnist/test.csv')\n",
    "raw_test_id=raw_test.id\n",
    "raw_test=raw_test.drop(\"id\",axis=\"columns\")\n",
    "raw_test=raw_test / 255\n",
    "test=raw_test.values.reshape(-1,28,28,1)\n",
    "test.shape"
   ]
  },
  {
   "cell_type": "code",
   "execution_count": 23,
   "metadata": {},
   "outputs": [],
   "source": [
    "sub=model.predict(test)     ##making prediction\n",
    "sub=np.argmax(sub,axis=1) ##changing the prediction intro labels\n",
    "\n",
    "sample_sub['label']=sub\n",
    "sample_sub.to_csv('scratch_model_apr_6.csv',index=False)"
   ]
  },
  {
   "cell_type": "markdown",
   "metadata": {},
   "source": [
    "## 3.5 Experimenting with pre trained models: The fastai library"
   ]
  },
  {
   "cell_type": "markdown",
   "metadata": {},
   "source": [
    "### 3.5.1 Introduction\n",
    "---\n",
    "\n",
    "In this section we explore the method of fitting the data on a pre- trained network by unfreezing the last few layers. The fastai library is a robust deep learning library built on top of PyTorch that creates a high level abstraction for easy model building and experimentation. \n",
    "\n",
    "It also comes with a unique tool that helps to find an ideal learning rate called the `lr_finder`. This tool greatly reduces the need to rely on functions such as `GridSearchCV` to tediously experiment with learning rates. \n",
    "\n",
    "The fastai library is also capable of exporting the model directly for production use."
   ]
  },
  {
   "cell_type": "markdown",
   "metadata": {},
   "source": [
    "### 3.5.2 ResNet50  - Best Performing Model <br>\n",
    "\n",
    "In this section, we experiment with training resnet50 using the fastai library.\n",
    "\n",
    "<br>"
   ]
  },
  {
   "cell_type": "code",
   "execution_count": 56,
   "metadata": {},
   "outputs": [],
   "source": [
    "%reload_ext autoreload\n",
    "%autoreload 2\n",
    "%matplotlib inline"
   ]
  },
  {
   "cell_type": "code",
   "execution_count": 57,
   "metadata": {},
   "outputs": [],
   "source": [
    "from fastai import *\n",
    "from fastai.vision import *\n",
    "import imageio\n",
    "import numpy as np \n",
    "import pandas as pd "
   ]
  },
  {
   "cell_type": "code",
   "execution_count": 58,
   "metadata": {},
   "outputs": [],
   "source": [
    "path = Path('../data/kannada_mnist/')\n",
    "train = pd.read_csv('../data/kannada_mnist/cs98x-kannada-mnist/training.csv')\n",
    "test  =pd.read_csv('../data/kannada_mnist/cs98x-kannada-mnist/test.csv')"
   ]
  },
  {
   "cell_type": "markdown",
   "metadata": {},
   "source": [
    "### 3.5.3 Converting the pixel values to actual images\n",
    "<br>\n",
    "We chose to convert the pixel values to actual images, that way we can play around with parameters such as resolution and size.\n",
    "\n",
    "\n",
    "<br>\n"
   ]
  },
  {
   "cell_type": "code",
   "execution_count": 59,
   "metadata": {},
   "outputs": [],
   "source": [
    "def to_img_shape(data_X, data_y=[]):\n",
    "    data_X = np.array(data_X).reshape(-1,28,28)\n",
    "    data_X = np.stack((data_X,)*3, axis=-1)\n",
    "    data_y = np.array(data_y)\n",
    "    return data_X,data_y"
   ]
  },
  {
   "cell_type": "markdown",
   "metadata": {},
   "source": [
    "### 3.5.4 Splitting the data  <br>\n",
    "\n",
    "We define this function once, future model experimentations involved experimenting with differing validation sizes.\n",
    "\n",
    "<br>"
   ]
  },
  {
   "cell_type": "code",
   "execution_count": 60,
   "metadata": {},
   "outputs": [],
   "source": [
    "data_X, data_y = train.loc[:,'pixel0':'pixel783'], train['label']"
   ]
  },
  {
   "cell_type": "code",
   "execution_count": 61,
   "metadata": {},
   "outputs": [],
   "source": [
    "from sklearn.model_selection import train_test_split\n",
    "\n",
    "train_X, val_X, train_y, val_y = train_test_split(data_X, data_y, test_size=0.10,random_state=7,stratify=data_y)"
   ]
  },
  {
   "cell_type": "code",
   "execution_count": 62,
   "metadata": {},
   "outputs": [],
   "source": [
    "train_X,train_y = to_img_shape(train_X, train_y)\n",
    "val_X,val_y = to_img_shape(val_X,val_y)"
   ]
  },
  {
   "cell_type": "code",
   "execution_count": 63,
   "metadata": {},
   "outputs": [],
   "source": [
    "tfms = get_transforms(do_flip=False, max_rotate=15, max_zoom=1.15, max_warp=0.05, max_lighting=0.1)"
   ]
  },
  {
   "cell_type": "code",
   "execution_count": 64,
   "metadata": {},
   "outputs": [],
   "source": [
    "data = (ImageList.from_folder('../data/kannada_mnist/') \n",
    "        .split_by_folder()          \n",
    "        .label_from_folder()        \n",
    "        .add_test_folder()          \n",
    "        .transform(tfms, size=64)   \n",
    "        .databunch())"
   ]
  },
  {
   "cell_type": "markdown",
   "metadata": {},
   "source": [
    "### 3.5.5 Viewing the databunch\n",
    "---\n",
    "Let's view 9 images from our dataset after we've aplied the transforms to them. In this instalce we have a new paramer that can also change the lighting of the image, meaning we can make the whites brighter."
   ]
  },
  {
   "cell_type": "code",
   "execution_count": 65,
   "metadata": {},
   "outputs": [
    {
     "data": {
      "image/png": "[encoded data removed]",
      "text/plain": [
       "<Figure size 432x432 with 9 Axes>"
      ]
     },
     "metadata": {
      "needs_background": "light"
     },
     "output_type": "display_data"
    }
   ],
   "source": [
    "data.show_batch(3,figsize=(6,6))"
   ]
  },
  {
   "cell_type": "markdown",
   "metadata": {},
   "source": [
    "### 3.5.6 Setting the pretrained model to resnet50"
   ]
  },
  {
   "cell_type": "code",
   "execution_count": 66,
   "metadata": {},
   "outputs": [],
   "source": [
    "learn = cnn_learner(data, models.resnet50, metrics=[error_rate, accuracy])"
   ]
  },
  {
   "cell_type": "markdown",
   "metadata": {},
   "source": [
    "### 3.5.7 Finding the learning rate <br>\n",
    "\n",
    "As we can see from the graph below, the lowest learning rate that yeilds the least loss is around `(1e-02)` to `(1e-01)`. We shall use this to set the learning rate for the model to make it converge faster.\n",
    "\n",
    "<br>"
   ]
  },
  {
   "cell_type": "code",
   "execution_count": 67,
   "metadata": {},
   "outputs": [
    {
     "data": {
      "text/html": [
       "\n",
       "    <div>\n",
       "        <style>\n",
       "            /* Turns off some styling */\n",
       "            progress {\n",
       "                /* gets rid of default border in Firefox and Opera. */\n",
       "                border: none;\n",
       "                /* Needs to be in here for Safari polyfill so background images work as expected. */\n",
       "                background-size: auto;\n",
       "            }\n",
       "            .progress-bar-interrupted, .progress-bar-interrupted::-webkit-progress-bar {\n",
       "                background: #F44336;\n",
       "            }\n",
       "        </style>\n",
       "      <progress value='0' class='' max='1', style='width:300px; height:20px; vertical-align: middle;'></progress>\n",
       "      0.00% [0/1 00:00<00:00]\n",
       "    </div>\n",
       "    \n",
       "<table border=\"1\" class=\"dataframe\">\n",
       "  <thead>\n",
       "    <tr style=\"text-align: left;\">\n",
       "      <th>epoch</th>\n",
       "      <th>train_loss</th>\n",
       "      <th>valid_loss</th>\n",
       "      <th>error_rate</th>\n",
       "      <th>accuracy</th>\n",
       "      <th>time</th>\n",
       "    </tr>\n",
       "  </thead>\n",
       "  <tbody>\n",
       "  </tbody>\n",
       "</table><p>\n",
       "\n",
       "    <div>\n",
       "        <style>\n",
       "            /* Turns off some styling */\n",
       "            progress {\n",
       "                /* gets rid of default border in Firefox and Opera. */\n",
       "                border: none;\n",
       "                /* Needs to be in here for Safari polyfill so background images work as expected. */\n",
       "                background-size: auto;\n",
       "            }\n",
       "            .progress-bar-interrupted, .progress-bar-interrupted::-webkit-progress-bar {\n",
       "                background: #F44336;\n",
       "            }\n",
       "        </style>\n",
       "      <progress value='88' class='' max='843', style='width:300px; height:20px; vertical-align: middle;'></progress>\n",
       "      10.44% [88/843 00:06<00:53 4.0280]\n",
       "    </div>\n",
       "    "
      ],
      "text/plain": [
       "<IPython.core.display.HTML object>"
      ]
     },
     "metadata": {},
     "output_type": "display_data"
    },
    {
     "name": "stdout",
     "output_type": "stream",
     "text": [
      "LR Finder is complete, type {learner_name}.recorder.plot() to see the graph.\n"
     ]
    },
    {
     "data": {
      "image/png": "[encoded data removed]",
      "text/plain": [
       "<Figure size 432x288 with 1 Axes>"
      ]
     },
     "metadata": {
      "needs_background": "light"
     },
     "output_type": "display_data"
    }
   ],
   "source": [
    "learn.lr_find()\n",
    "learn.recorder.plot()"
   ]
  },
  {
   "cell_type": "markdown",
   "metadata": {},
   "source": [
    "### 3.5.8 Fitting one cycle policy <br>\n",
    "\n",
    "The motivation behind this is that, during the middle of learning, when learning rate is higher, it works as a regularisation method to keep the network from overfitting. \n",
    "\n",
    "This helps the network avoid steep areas of loss and find a better, flatter minima. \n",
    "\n",
    "More details of the logic can be found here : https://towardsdatascience.com/finding-good-learning-rate-and-the-one-cycle-policy-7159fe1db5d6 .\n",
    "\n",
    "<br>"
   ]
  },
  {
   "cell_type": "code",
   "execution_count": 68,
   "metadata": {
    "scrolled": true
   },
   "outputs": [
    {
     "data": {
      "text/html": [
       "<table border=\"1\" class=\"dataframe\">\n",
       "  <thead>\n",
       "    <tr style=\"text-align: left;\">\n",
       "      <th>epoch</th>\n",
       "      <th>train_loss</th>\n",
       "      <th>valid_loss</th>\n",
       "      <th>error_rate</th>\n",
       "      <th>accuracy</th>\n",
       "      <th>time</th>\n",
       "    </tr>\n",
       "  </thead>\n",
       "  <tbody>\n",
       "    <tr>\n",
       "      <td>0</td>\n",
       "      <td>0.313900</td>\n",
       "      <td>0.162462</td>\n",
       "      <td>0.048500</td>\n",
       "      <td>0.951500</td>\n",
       "      <td>00:48</td>\n",
       "    </tr>\n",
       "    <tr>\n",
       "      <td>1</td>\n",
       "      <td>0.124778</td>\n",
       "      <td>0.059305</td>\n",
       "      <td>0.016833</td>\n",
       "      <td>0.983167</td>\n",
       "      <td>00:47</td>\n",
       "    </tr>\n",
       "    <tr>\n",
       "      <td>2</td>\n",
       "      <td>0.076736</td>\n",
       "      <td>0.041638</td>\n",
       "      <td>0.011500</td>\n",
       "      <td>0.988500</td>\n",
       "      <td>00:47</td>\n",
       "    </tr>\n",
       "    <tr>\n",
       "      <td>3</td>\n",
       "      <td>0.065121</td>\n",
       "      <td>0.036711</td>\n",
       "      <td>0.011667</td>\n",
       "      <td>0.988333</td>\n",
       "      <td>00:48</td>\n",
       "    </tr>\n",
       "  </tbody>\n",
       "</table>"
      ],
      "text/plain": [
       "<IPython.core.display.HTML object>"
      ]
     },
     "metadata": {},
     "output_type": "display_data"
    }
   ],
   "source": [
    "lr = 1e-2\n",
    "learn.fit_one_cycle(4)"
   ]
  },
  {
   "cell_type": "code",
   "execution_count": 69,
   "metadata": {},
   "outputs": [
    {
     "data": {
      "text/html": [
       "\n",
       "    <div>\n",
       "        <style>\n",
       "            /* Turns off some styling */\n",
       "            progress {\n",
       "                /* gets rid of default border in Firefox and Opera. */\n",
       "                border: none;\n",
       "                /* Needs to be in here for Safari polyfill so background images work as expected. */\n",
       "                background-size: auto;\n",
       "            }\n",
       "            .progress-bar-interrupted, .progress-bar-interrupted::-webkit-progress-bar {\n",
       "                background: #F44336;\n",
       "            }\n",
       "        </style>\n",
       "      <progress value='0' class='' max='1', style='width:300px; height:20px; vertical-align: middle;'></progress>\n",
       "      0.00% [0/1 00:00<00:00]\n",
       "    </div>\n",
       "    \n",
       "<table border=\"1\" class=\"dataframe\">\n",
       "  <thead>\n",
       "    <tr style=\"text-align: left;\">\n",
       "      <th>epoch</th>\n",
       "      <th>train_loss</th>\n",
       "      <th>valid_loss</th>\n",
       "      <th>error_rate</th>\n",
       "      <th>accuracy</th>\n",
       "      <th>time</th>\n",
       "    </tr>\n",
       "  </thead>\n",
       "  <tbody>\n",
       "  </tbody>\n",
       "</table><p>\n",
       "\n",
       "    <div>\n",
       "        <style>\n",
       "            /* Turns off some styling */\n",
       "            progress {\n",
       "                /* gets rid of default border in Firefox and Opera. */\n",
       "                border: none;\n",
       "                /* Needs to be in here for Safari polyfill so background images work as expected. */\n",
       "                background-size: auto;\n",
       "            }\n",
       "            .progress-bar-interrupted, .progress-bar-interrupted::-webkit-progress-bar {\n",
       "                background: #F44336;\n",
       "            }\n",
       "        </style>\n",
       "      <progress value='56' class='' max='843', style='width:300px; height:20px; vertical-align: middle;'></progress>\n",
       "      6.64% [56/843 00:05<01:16 0.1645]\n",
       "    </div>\n",
       "    "
      ],
      "text/plain": [
       "<IPython.core.display.HTML object>"
      ]
     },
     "metadata": {},
     "output_type": "display_data"
    },
    {
     "name": "stdout",
     "output_type": "stream",
     "text": [
      "LR Finder is complete, type {learner_name}.recorder.plot() to see the graph.\n"
     ]
    },
    {
     "data": {
      "image/png": "[encoded data removed]",
      "text/plain": [
       "<Figure size 432x288 with 1 Axes>"
      ]
     },
     "metadata": {
      "needs_background": "light"
     },
     "output_type": "display_data"
    }
   ],
   "source": [
    "learn.unfreeze()\n",
    "learn.lr_find()\n",
    "learn.recorder.plot()"
   ]
  },
  {
   "cell_type": "code",
   "execution_count": 70,
   "metadata": {},
   "outputs": [
    {
     "data": {
      "text/html": [
       "<table border=\"1\" class=\"dataframe\">\n",
       "  <thead>\n",
       "    <tr style=\"text-align: left;\">\n",
       "      <th>epoch</th>\n",
       "      <th>train_loss</th>\n",
       "      <th>valid_loss</th>\n",
       "      <th>error_rate</th>\n",
       "      <th>accuracy</th>\n",
       "      <th>time</th>\n",
       "    </tr>\n",
       "  </thead>\n",
       "  <tbody>\n",
       "    <tr>\n",
       "      <td>0</td>\n",
       "      <td>0.065940</td>\n",
       "      <td>0.034828</td>\n",
       "      <td>0.010667</td>\n",
       "      <td>0.989333</td>\n",
       "      <td>01:08</td>\n",
       "    </tr>\n",
       "    <tr>\n",
       "      <td>1</td>\n",
       "      <td>0.058177</td>\n",
       "      <td>0.032919</td>\n",
       "      <td>0.009167</td>\n",
       "      <td>0.990833</td>\n",
       "      <td>01:09</td>\n",
       "    </tr>\n",
       "    <tr>\n",
       "      <td>2</td>\n",
       "      <td>0.042502</td>\n",
       "      <td>0.029718</td>\n",
       "      <td>0.009167</td>\n",
       "      <td>0.990833</td>\n",
       "      <td>01:09</td>\n",
       "    </tr>\n",
       "    <tr>\n",
       "      <td>3</td>\n",
       "      <td>0.043998</td>\n",
       "      <td>0.029039</td>\n",
       "      <td>0.008667</td>\n",
       "      <td>0.991333</td>\n",
       "      <td>01:09</td>\n",
       "    </tr>\n",
       "    <tr>\n",
       "      <td>4</td>\n",
       "      <td>0.042512</td>\n",
       "      <td>0.028793</td>\n",
       "      <td>0.008500</td>\n",
       "      <td>0.991500</td>\n",
       "      <td>01:09</td>\n",
       "    </tr>\n",
       "  </tbody>\n",
       "</table>"
      ],
      "text/plain": [
       "<IPython.core.display.HTML object>"
      ]
     },
     "metadata": {},
     "output_type": "display_data"
    }
   ],
   "source": [
    "lr = 2e-6\n",
    "learn.fit_one_cycle(5,lr)"
   ]
  },
  {
   "cell_type": "code",
   "execution_count": 71,
   "metadata": {},
   "outputs": [],
   "source": [
    "learn.save('stage-2')"
   ]
  },
  {
   "cell_type": "code",
   "execution_count": 72,
   "metadata": {},
   "outputs": [
    {
     "data": {
      "text/html": [
       "\n",
       "    <div>\n",
       "        <style>\n",
       "            /* Turns off some styling */\n",
       "            progress {\n",
       "                /* gets rid of default border in Firefox and Opera. */\n",
       "                border: none;\n",
       "                /* Needs to be in here for Safari polyfill so background images work as expected. */\n",
       "                background-size: auto;\n",
       "            }\n",
       "            .progress-bar-interrupted, .progress-bar-interrupted::-webkit-progress-bar {\n",
       "                background: #F44336;\n",
       "            }\n",
       "        </style>\n",
       "      <progress value='0' class='' max='1', style='width:300px; height:20px; vertical-align: middle;'></progress>\n",
       "      0.00% [0/1 00:00<00:00]\n",
       "    </div>\n",
       "    \n",
       "<table border=\"1\" class=\"dataframe\">\n",
       "  <thead>\n",
       "    <tr style=\"text-align: left;\">\n",
       "      <th>epoch</th>\n",
       "      <th>train_loss</th>\n",
       "      <th>valid_loss</th>\n",
       "      <th>error_rate</th>\n",
       "      <th>accuracy</th>\n",
       "      <th>time</th>\n",
       "    </tr>\n",
       "  </thead>\n",
       "  <tbody>\n",
       "  </tbody>\n",
       "</table><p>\n",
       "\n",
       "    <div>\n",
       "        <style>\n",
       "            /* Turns off some styling */\n",
       "            progress {\n",
       "                /* gets rid of default border in Firefox and Opera. */\n",
       "                border: none;\n",
       "                /* Needs to be in here for Safari polyfill so background images work as expected. */\n",
       "                background-size: auto;\n",
       "            }\n",
       "            .progress-bar-interrupted, .progress-bar-interrupted::-webkit-progress-bar {\n",
       "                background: #F44336;\n",
       "            }\n",
       "        </style>\n",
       "      <progress value='51' class='' max='843', style='width:300px; height:20px; vertical-align: middle;'></progress>\n",
       "      6.05% [51/843 00:04<01:11 0.0987]\n",
       "    </div>\n",
       "    "
      ],
      "text/plain": [
       "<IPython.core.display.HTML object>"
      ]
     },
     "metadata": {},
     "output_type": "display_data"
    },
    {
     "name": "stdout",
     "output_type": "stream",
     "text": [
      "LR Finder is complete, type {learner_name}.recorder.plot() to see the graph.\n"
     ]
    },
    {
     "data": {
      "image/png": "[encoded data removed]",
      "text/plain": [
       "<Figure size 432x288 with 1 Axes>"
      ]
     },
     "metadata": {
      "needs_background": "light"
     },
     "output_type": "display_data"
    }
   ],
   "source": [
    "learn.lr_find()\n",
    "learn.recorder.plot()"
   ]
  },
  {
   "cell_type": "code",
   "execution_count": 73,
   "metadata": {},
   "outputs": [
    {
     "data": {
      "text/html": [
       "<table border=\"1\" class=\"dataframe\">\n",
       "  <thead>\n",
       "    <tr style=\"text-align: left;\">\n",
       "      <th>epoch</th>\n",
       "      <th>train_loss</th>\n",
       "      <th>valid_loss</th>\n",
       "      <th>error_rate</th>\n",
       "      <th>accuracy</th>\n",
       "      <th>time</th>\n",
       "    </tr>\n",
       "  </thead>\n",
       "  <tbody>\n",
       "    <tr>\n",
       "      <td>0</td>\n",
       "      <td>0.044162</td>\n",
       "      <td>0.029110</td>\n",
       "      <td>0.009333</td>\n",
       "      <td>0.990667</td>\n",
       "      <td>01:09</td>\n",
       "    </tr>\n",
       "    <tr>\n",
       "      <td>1</td>\n",
       "      <td>0.041479</td>\n",
       "      <td>0.029199</td>\n",
       "      <td>0.008500</td>\n",
       "      <td>0.991500</td>\n",
       "      <td>01:09</td>\n",
       "    </tr>\n",
       "    <tr>\n",
       "      <td>2</td>\n",
       "      <td>0.039822</td>\n",
       "      <td>0.028140</td>\n",
       "      <td>0.008167</td>\n",
       "      <td>0.991833</td>\n",
       "      <td>01:09</td>\n",
       "    </tr>\n",
       "  </tbody>\n",
       "</table>"
      ],
      "text/plain": [
       "<IPython.core.display.HTML object>"
      ]
     },
     "metadata": {},
     "output_type": "display_data"
    }
   ],
   "source": [
    "lr = slice(2e-6)\n",
    "learn.fit_one_cycle(3,lr)"
   ]
  },
  {
   "cell_type": "markdown",
   "metadata": {},
   "source": [
    "### 3.5.9 Submitting to Kaggle <br>\n",
    "\n",
    "With out best model tuned we made predictions on the unseen Kaggle data.\n",
    "\n",
    "<br>"
   ]
  },
  {
   "cell_type": "code",
   "execution_count": 74,
   "metadata": {},
   "outputs": [],
   "source": [
    "test_csv = pd.read_csv('../data/kannada_mnist/cs98x-kannada-mnist/test.csv')\n",
    "test_csv.drop('id',axis = 'columns',inplace = True)\n",
    "sub_df = pd.DataFrame(columns=['id','label'])"
   ]
  },
  {
   "cell_type": "code",
   "execution_count": 75,
   "metadata": {},
   "outputs": [],
   "source": [
    "test_data = np.array(test_csv)"
   ]
  },
  {
   "cell_type": "code",
   "execution_count": 76,
   "metadata": {},
   "outputs": [],
   "source": [
    "def get_img(data):\n",
    "    t1 = data.reshape(28,28)/255\n",
    "    t1 = np.stack([t1]*3,axis=0)\n",
    "    img = Image(FloatTensor(t1))\n",
    "    return img"
   ]
  },
  {
   "cell_type": "code",
   "execution_count": 77,
   "metadata": {},
   "outputs": [
    {
     "data": {
      "text/html": [
       "\n",
       "    <div>\n",
       "        <style>\n",
       "            /* Turns off some styling */\n",
       "            progress {\n",
       "                /* gets rid of default border in Firefox and Opera. */\n",
       "                border: none;\n",
       "                /* Needs to be in here for Safari polyfill so background images work as expected. */\n",
       "                background-size: auto;\n",
       "            }\n",
       "            .progress-bar-interrupted, .progress-bar-interrupted::-webkit-progress-bar {\n",
       "                background: #F44336;\n",
       "            }\n",
       "        </style>\n",
       "      <progress value='10000' class='' max='10000', style='width:300px; height:20px; vertical-align: middle;'></progress>\n",
       "      100.00% [10000/10000 01:30<00:00]\n",
       "    </div>\n",
       "    "
      ],
      "text/plain": [
       "<IPython.core.display.HTML object>"
      ]
     },
     "metadata": {},
     "output_type": "display_data"
    }
   ],
   "source": [
    "from fastprogress import progress_bar\n",
    "mb=progress_bar(range(test_data.shape[0]))\n",
    "\n",
    "for i in mb:\n",
    "    timg=test_data[i]\n",
    "    img = get_img(timg)\n",
    "    sub_df.loc[i]=[i+1,int(learn.predict(img)[1])]"
   ]
  },
  {
   "cell_type": "code",
   "execution_count": 78,
   "metadata": {},
   "outputs": [],
   "source": [
    "def decr(ido):\n",
    "    return ido-1\n",
    "\n",
    "sub_df['id'] = sub_df['id'].map(decr)\n",
    "sub_df.to_csv('submission_resnet50_tuned_15032020_2.csv',index=False)"
   ]
  },
  {
   "cell_type": "markdown",
   "metadata": {},
   "source": [
    "### 3.5.10 Results <br>\n",
    "\n",
    "\n",
    "This model performed quite well, achieving a very low error rate and a good accuracy. The training time is also extremeley efficient (one of the main advantages of using a pretrained model).\n",
    "\n",
    "<br>\n"
   ]
  },
  {
   "cell_type": "markdown",
   "metadata": {},
   "source": [
    "## 3.6 ResNet 50 with a 15 % validation set"
   ]
  },
  {
   "cell_type": "markdown",
   "metadata": {},
   "source": [
    "We chose 15% as the validation set size because its very comparable to the size of the actual unseen data. An accuarcy estimate on this model should give us a good idea on how well the model will generalise in real scenarios.\n",
    "\n",
    "Below we followed the same steps but with the change in validation ratio. \n",
    "\n",
    "<br>"
   ]
  },
  {
   "cell_type": "code",
   "execution_count": 5,
   "metadata": {},
   "outputs": [],
   "source": [
    "data_X, data_y = train.loc[:,'pixel0':'pixel783'], train['label']"
   ]
  },
  {
   "cell_type": "code",
   "execution_count": 6,
   "metadata": {},
   "outputs": [],
   "source": [
    "from sklearn.model_selection import train_test_split\n",
    "\n",
    "train_X, val_X, train_y, val_y = train_test_split(data_X, data_y, test_size=0.15,random_state=5,stratify=data_y)"
   ]
  },
  {
   "cell_type": "code",
   "execution_count": 7,
   "metadata": {},
   "outputs": [],
   "source": [
    "train_X,train_y = to_img_shape(train_X, train_y)\n",
    "val_X,val_y = to_img_shape(val_X,val_y)"
   ]
  },
  {
   "cell_type": "code",
   "execution_count": 8,
   "metadata": {},
   "outputs": [],
   "source": [
    "tfms = get_transforms(do_flip=True, max_rotate=15, max_zoom=1.15, max_warp=0.05, max_lighting=0.1)"
   ]
  },
  {
   "cell_type": "code",
   "execution_count": 9,
   "metadata": {},
   "outputs": [],
   "source": [
    "data = (ImageList.from_folder('../data/kannada_mnist/') \n",
    "        .split_by_folder()          \n",
    "        .label_from_folder()        \n",
    "        .add_test_folder()          \n",
    "        .transform(tfms, size=32)   \n",
    "        .databunch())"
   ]
  },
  {
   "cell_type": "code",
   "execution_count": 10,
   "metadata": {},
   "outputs": [
    {
     "data": {
      "image/png": "[encoded data removed]",
      "text/plain": [
       "<Figure size 432x432 with 9 Axes>"
      ]
     },
     "metadata": {
      "needs_background": "light"
     },
     "output_type": "display_data"
    }
   ],
   "source": [
    "data.show_batch(3,figsize=(6,6))"
   ]
  },
  {
   "cell_type": "code",
   "execution_count": 11,
   "metadata": {},
   "outputs": [],
   "source": [
    "learn = cnn_learner(data, models.resnet50, metrics=[error_rate, accuracy])"
   ]
  },
  {
   "cell_type": "code",
   "execution_count": 12,
   "metadata": {},
   "outputs": [
    {
     "data": {
      "text/html": [
       "\n",
       "    <div>\n",
       "        <style>\n",
       "            /* Turns off some styling */\n",
       "            progress {\n",
       "                /* gets rid of default border in Firefox and Opera. */\n",
       "                border: none;\n",
       "                /* Needs to be in here for Safari polyfill so background images work as expected. */\n",
       "                background-size: auto;\n",
       "            }\n",
       "            .progress-bar-interrupted, .progress-bar-interrupted::-webkit-progress-bar {\n",
       "                background: #F44336;\n",
       "            }\n",
       "        </style>\n",
       "      <progress value='0' class='' max='1', style='width:300px; height:20px; vertical-align: middle;'></progress>\n",
       "      0.00% [0/1 00:00<00:00]\n",
       "    </div>\n",
       "    \n",
       "<table border=\"1\" class=\"dataframe\">\n",
       "  <thead>\n",
       "    <tr style=\"text-align: left;\">\n",
       "      <th>epoch</th>\n",
       "      <th>train_loss</th>\n",
       "      <th>valid_loss</th>\n",
       "      <th>error_rate</th>\n",
       "      <th>accuracy</th>\n",
       "      <th>time</th>\n",
       "    </tr>\n",
       "  </thead>\n",
       "  <tbody>\n",
       "  </tbody>\n",
       "</table><p>\n",
       "\n",
       "    <div>\n",
       "        <style>\n",
       "            /* Turns off some styling */\n",
       "            progress {\n",
       "                /* gets rid of default border in Firefox and Opera. */\n",
       "                border: none;\n",
       "                /* Needs to be in here for Safari polyfill so background images work as expected. */\n",
       "                background-size: auto;\n",
       "            }\n",
       "            .progress-bar-interrupted, .progress-bar-interrupted::-webkit-progress-bar {\n",
       "                background: #F44336;\n",
       "            }\n",
       "        </style>\n",
       "      <progress value='87' class='' max='843', style='width:300px; height:20px; vertical-align: middle;'></progress>\n",
       "      10.32% [87/843 00:04<00:37 4.1395]\n",
       "    </div>\n",
       "    "
      ],
      "text/plain": [
       "<IPython.core.display.HTML object>"
      ]
     },
     "metadata": {},
     "output_type": "display_data"
    },
    {
     "name": "stdout",
     "output_type": "stream",
     "text": [
      "LR Finder is complete, type {learner_name}.recorder.plot() to see the graph.\n"
     ]
    },
    {
     "data": {
      "image/png": "[encoded data removed]",
      "text/plain": [
       "<Figure size 432x288 with 1 Axes>"
      ]
     },
     "metadata": {
      "needs_background": "light"
     },
     "output_type": "display_data"
    }
   ],
   "source": [
    "learn.lr_find()\n",
    "learn.recorder.plot()"
   ]
  },
  {
   "cell_type": "markdown",
   "metadata": {},
   "source": [
    "### 3.6.1 Unfreezing and fitting to one cycle <br>\n",
    "\n",
    "<br>"
   ]
  },
  {
   "cell_type": "code",
   "execution_count": 13,
   "metadata": {
    "scrolled": true
   },
   "outputs": [
    {
     "data": {
      "text/html": [
       "<table border=\"1\" class=\"dataframe\">\n",
       "  <thead>\n",
       "    <tr style=\"text-align: left;\">\n",
       "      <th>epoch</th>\n",
       "      <th>train_loss</th>\n",
       "      <th>valid_loss</th>\n",
       "      <th>error_rate</th>\n",
       "      <th>accuracy</th>\n",
       "      <th>time</th>\n",
       "    </tr>\n",
       "  </thead>\n",
       "  <tbody>\n",
       "    <tr>\n",
       "      <td>0</td>\n",
       "      <td>0.720356</td>\n",
       "      <td>0.479237</td>\n",
       "      <td>0.150000</td>\n",
       "      <td>0.850000</td>\n",
       "      <td>00:30</td>\n",
       "    </tr>\n",
       "    <tr>\n",
       "      <td>1</td>\n",
       "      <td>0.296366</td>\n",
       "      <td>0.183739</td>\n",
       "      <td>0.060667</td>\n",
       "      <td>0.939333</td>\n",
       "      <td>00:30</td>\n",
       "    </tr>\n",
       "    <tr>\n",
       "      <td>2</td>\n",
       "      <td>0.205060</td>\n",
       "      <td>0.113973</td>\n",
       "      <td>0.035500</td>\n",
       "      <td>0.964500</td>\n",
       "      <td>00:30</td>\n",
       "    </tr>\n",
       "    <tr>\n",
       "      <td>3</td>\n",
       "      <td>0.171403</td>\n",
       "      <td>0.106375</td>\n",
       "      <td>0.033667</td>\n",
       "      <td>0.966333</td>\n",
       "      <td>00:30</td>\n",
       "    </tr>\n",
       "  </tbody>\n",
       "</table>"
      ],
      "text/plain": [
       "<IPython.core.display.HTML object>"
      ]
     },
     "metadata": {},
     "output_type": "display_data"
    }
   ],
   "source": [
    "lr = slice(1e-02,1e-01)\n",
    "learn.fit_one_cycle(4)"
   ]
  },
  {
   "cell_type": "code",
   "execution_count": 14,
   "metadata": {},
   "outputs": [
    {
     "data": {
      "text/html": [
       "\n",
       "    <div>\n",
       "        <style>\n",
       "            /* Turns off some styling */\n",
       "            progress {\n",
       "                /* gets rid of default border in Firefox and Opera. */\n",
       "                border: none;\n",
       "                /* Needs to be in here for Safari polyfill so background images work as expected. */\n",
       "                background-size: auto;\n",
       "            }\n",
       "            .progress-bar-interrupted, .progress-bar-interrupted::-webkit-progress-bar {\n",
       "                background: #F44336;\n",
       "            }\n",
       "        </style>\n",
       "      <progress value='0' class='' max='1', style='width:300px; height:20px; vertical-align: middle;'></progress>\n",
       "      0.00% [0/1 00:00<00:00]\n",
       "    </div>\n",
       "    \n",
       "<table border=\"1\" class=\"dataframe\">\n",
       "  <thead>\n",
       "    <tr style=\"text-align: left;\">\n",
       "      <th>epoch</th>\n",
       "      <th>train_loss</th>\n",
       "      <th>valid_loss</th>\n",
       "      <th>error_rate</th>\n",
       "      <th>accuracy</th>\n",
       "      <th>time</th>\n",
       "    </tr>\n",
       "  </thead>\n",
       "  <tbody>\n",
       "  </tbody>\n",
       "</table><p>\n",
       "\n",
       "    <div>\n",
       "        <style>\n",
       "            /* Turns off some styling */\n",
       "            progress {\n",
       "                /* gets rid of default border in Firefox and Opera. */\n",
       "                border: none;\n",
       "                /* Needs to be in here for Safari polyfill so background images work as expected. */\n",
       "                background-size: auto;\n",
       "            }\n",
       "            .progress-bar-interrupted, .progress-bar-interrupted::-webkit-progress-bar {\n",
       "                background: #F44336;\n",
       "            }\n",
       "        </style>\n",
       "      <progress value='69' class='' max='843', style='width:300px; height:20px; vertical-align: middle;'></progress>\n",
       "      8.19% [69/843 00:04<00:50 0.6299]\n",
       "    </div>\n",
       "    "
      ],
      "text/plain": [
       "<IPython.core.display.HTML object>"
      ]
     },
     "metadata": {},
     "output_type": "display_data"
    },
    {
     "name": "stdout",
     "output_type": "stream",
     "text": [
      "LR Finder is complete, type {learner_name}.recorder.plot() to see the graph.\n"
     ]
    },
    {
     "data": {
      "image/png": "[encoded data removed]",
      "text/plain": [
       "<Figure size 432x288 with 1 Axes>"
      ]
     },
     "metadata": {
      "needs_background": "light"
     },
     "output_type": "display_data"
    }
   ],
   "source": [
    "learn.unfreeze()\n",
    "learn.lr_find()\n",
    "learn.recorder.plot()"
   ]
  },
  {
   "cell_type": "markdown",
   "metadata": {},
   "source": [
    "### 3.6.3 fitting 5 cycles with a sliced learning rate <br>\n",
    "\n",
    "Here we ask the algorithm to gradually change the learning rate, but only between predefined boundaries.\n",
    "\n",
    "<br>"
   ]
  },
  {
   "cell_type": "code",
   "execution_count": 15,
   "metadata": {},
   "outputs": [
    {
     "data": {
      "text/html": [
       "<table border=\"1\" class=\"dataframe\">\n",
       "  <thead>\n",
       "    <tr style=\"text-align: left;\">\n",
       "      <th>epoch</th>\n",
       "      <th>train_loss</th>\n",
       "      <th>valid_loss</th>\n",
       "      <th>error_rate</th>\n",
       "      <th>accuracy</th>\n",
       "      <th>time</th>\n",
       "    </tr>\n",
       "  </thead>\n",
       "  <tbody>\n",
       "    <tr>\n",
       "      <td>0</td>\n",
       "      <td>0.152196</td>\n",
       "      <td>0.091872</td>\n",
       "      <td>0.027167</td>\n",
       "      <td>0.972833</td>\n",
       "      <td>00:45</td>\n",
       "    </tr>\n",
       "    <tr>\n",
       "      <td>1</td>\n",
       "      <td>0.112092</td>\n",
       "      <td>0.063268</td>\n",
       "      <td>0.018167</td>\n",
       "      <td>0.981833</td>\n",
       "      <td>00:45</td>\n",
       "    </tr>\n",
       "    <tr>\n",
       "      <td>2</td>\n",
       "      <td>0.068831</td>\n",
       "      <td>0.041692</td>\n",
       "      <td>0.012167</td>\n",
       "      <td>0.987833</td>\n",
       "      <td>00:45</td>\n",
       "    </tr>\n",
       "    <tr>\n",
       "      <td>3</td>\n",
       "      <td>0.048239</td>\n",
       "      <td>0.028677</td>\n",
       "      <td>0.009167</td>\n",
       "      <td>0.990833</td>\n",
       "      <td>00:46</td>\n",
       "    </tr>\n",
       "    <tr>\n",
       "      <td>4</td>\n",
       "      <td>0.040751</td>\n",
       "      <td>0.028229</td>\n",
       "      <td>0.009000</td>\n",
       "      <td>0.991000</td>\n",
       "      <td>00:45</td>\n",
       "    </tr>\n",
       "  </tbody>\n",
       "</table>"
      ],
      "text/plain": [
       "<IPython.core.display.HTML object>"
      ]
     },
     "metadata": {},
     "output_type": "display_data"
    }
   ],
   "source": [
    "lr = slice(2e-6,2e-3)\n",
    "learn.fit_one_cycle(5,lr)"
   ]
  },
  {
   "cell_type": "code",
   "execution_count": 16,
   "metadata": {},
   "outputs": [],
   "source": [
    "learn.save('stage-2')"
   ]
  },
  {
   "cell_type": "code",
   "execution_count": 72,
   "metadata": {},
   "outputs": [
    {
     "data": {
      "text/html": [
       "\n",
       "    <div>\n",
       "        <style>\n",
       "            /* Turns off some styling */\n",
       "            progress {\n",
       "                /* gets rid of default border in Firefox and Opera. */\n",
       "                border: none;\n",
       "                /* Needs to be in here for Safari polyfill so background images work as expected. */\n",
       "                background-size: auto;\n",
       "            }\n",
       "            .progress-bar-interrupted, .progress-bar-interrupted::-webkit-progress-bar {\n",
       "                background: #F44336;\n",
       "            }\n",
       "        </style>\n",
       "      <progress value='0' class='' max='1', style='width:300px; height:20px; vertical-align: middle;'></progress>\n",
       "      0.00% [0/1 00:00<00:00]\n",
       "    </div>\n",
       "    \n",
       "<table border=\"1\" class=\"dataframe\">\n",
       "  <thead>\n",
       "    <tr style=\"text-align: left;\">\n",
       "      <th>epoch</th>\n",
       "      <th>train_loss</th>\n",
       "      <th>valid_loss</th>\n",
       "      <th>error_rate</th>\n",
       "      <th>accuracy</th>\n",
       "      <th>time</th>\n",
       "    </tr>\n",
       "  </thead>\n",
       "  <tbody>\n",
       "  </tbody>\n",
       "</table><p>\n",
       "\n",
       "    <div>\n",
       "        <style>\n",
       "            /* Turns off some styling */\n",
       "            progress {\n",
       "                /* gets rid of default border in Firefox and Opera. */\n",
       "                border: none;\n",
       "                /* Needs to be in here for Safari polyfill so background images work as expected. */\n",
       "                background-size: auto;\n",
       "            }\n",
       "            .progress-bar-interrupted, .progress-bar-interrupted::-webkit-progress-bar {\n",
       "                background: #F44336;\n",
       "            }\n",
       "        </style>\n",
       "      <progress value='51' class='' max='843', style='width:300px; height:20px; vertical-align: middle;'></progress>\n",
       "      6.05% [51/843 00:04<01:11 0.0987]\n",
       "    </div>\n",
       "    "
      ],
      "text/plain": [
       "<IPython.core.display.HTML object>"
      ]
     },
     "metadata": {},
     "output_type": "display_data"
    },
    {
     "name": "stdout",
     "output_type": "stream",
     "text": [
      "LR Finder is complete, type {learner_name}.recorder.plot() to see the graph.\n"
     ]
    },
    {
     "data": {
      "image/png": "[encoded data removed]",
      "text/plain": [
       "<Figure size 432x288 with 1 Axes>"
      ]
     },
     "metadata": {
      "needs_background": "light"
     },
     "output_type": "display_data"
    }
   ],
   "source": [
    "learn.lr_find()\n",
    "learn.recorder.plot()"
   ]
  },
  {
   "cell_type": "code",
   "execution_count": 73,
   "metadata": {},
   "outputs": [
    {
     "data": {
      "text/html": [
       "<table border=\"1\" class=\"dataframe\">\n",
       "  <thead>\n",
       "    <tr style=\"text-align: left;\">\n",
       "      <th>epoch</th>\n",
       "      <th>train_loss</th>\n",
       "      <th>valid_loss</th>\n",
       "      <th>error_rate</th>\n",
       "      <th>accuracy</th>\n",
       "      <th>time</th>\n",
       "    </tr>\n",
       "  </thead>\n",
       "  <tbody>\n",
       "    <tr>\n",
       "      <td>0</td>\n",
       "      <td>0.044162</td>\n",
       "      <td>0.029110</td>\n",
       "      <td>0.009333</td>\n",
       "      <td>0.990667</td>\n",
       "      <td>01:09</td>\n",
       "    </tr>\n",
       "    <tr>\n",
       "      <td>1</td>\n",
       "      <td>0.041479</td>\n",
       "      <td>0.029199</td>\n",
       "      <td>0.008500</td>\n",
       "      <td>0.991500</td>\n",
       "      <td>01:09</td>\n",
       "    </tr>\n",
       "    <tr>\n",
       "      <td>2</td>\n",
       "      <td>0.039822</td>\n",
       "      <td>0.028140</td>\n",
       "      <td>0.008167</td>\n",
       "      <td>0.991833</td>\n",
       "      <td>01:09</td>\n",
       "    </tr>\n",
       "  </tbody>\n",
       "</table>"
      ],
      "text/plain": [
       "<IPython.core.display.HTML object>"
      ]
     },
     "metadata": {},
     "output_type": "display_data"
    }
   ],
   "source": [
    "lr = slice(2e-6)\n",
    "learn.fit_one_cycle(3,lr)"
   ]
  },
  {
   "cell_type": "markdown",
   "metadata": {},
   "source": [
    "### 3.6.4 Submit to kaggle <br>\n",
    "\n",
    "With another model tuned, we then made a further prediction submission to Kaggle. \n",
    "\n",
    "This model achieved our highest score of `98%`.\n",
    "\n",
    "<br>"
   ]
  },
  {
   "cell_type": "code",
   "execution_count": 17,
   "metadata": {},
   "outputs": [],
   "source": [
    "test_csv = pd.read_csv('../data/kannada_mnist/cs98x-kannada-mnist/test.csv')\n",
    "test_csv.drop('id',axis = 'columns',inplace = True)\n",
    "sub_df = pd.DataFrame(columns=['id','label'])"
   ]
  },
  {
   "cell_type": "code",
   "execution_count": 18,
   "metadata": {},
   "outputs": [],
   "source": [
    "test_data = np.array(test_csv)"
   ]
  },
  {
   "cell_type": "code",
   "execution_count": 19,
   "metadata": {},
   "outputs": [],
   "source": [
    "def get_img(data):\n",
    "    t1 = data.reshape(28,28)/255\n",
    "    t1 = np.stack([t1]*3,axis=0)\n",
    "    img = Image(FloatTensor(t1))\n",
    "    return img"
   ]
  },
  {
   "cell_type": "code",
   "execution_count": 20,
   "metadata": {},
   "outputs": [
    {
     "data": {
      "text/html": [
       "\n",
       "    <div>\n",
       "        <style>\n",
       "            /* Turns off some styling */\n",
       "            progress {\n",
       "                /* gets rid of default border in Firefox and Opera. */\n",
       "                border: none;\n",
       "                /* Needs to be in here for Safari polyfill so background images work as expected. */\n",
       "                background-size: auto;\n",
       "            }\n",
       "            .progress-bar-interrupted, .progress-bar-interrupted::-webkit-progress-bar {\n",
       "                background: #F44336;\n",
       "            }\n",
       "        </style>\n",
       "      <progress value='10000' class='' max='10000', style='width:300px; height:20px; vertical-align: middle;'></progress>\n",
       "      100.00% [10000/10000 01:24<00:00]\n",
       "    </div>\n",
       "    "
      ],
      "text/plain": [
       "<IPython.core.display.HTML object>"
      ]
     },
     "metadata": {},
     "output_type": "display_data"
    }
   ],
   "source": [
    "from fastprogress import progress_bar\n",
    "mb=progress_bar(range(test_data.shape[0]))\n",
    "\n",
    "for i in mb:\n",
    "    timg=test_data[i]\n",
    "    img = get_img(timg)\n",
    "    sub_df.loc[i]=[i+1,int(learn.predict(img)[1])]"
   ]
  },
  {
   "cell_type": "code",
   "execution_count": 24,
   "metadata": {},
   "outputs": [],
   "source": [
    "def decr(ido):\n",
    "    return ido-1\n",
    "\n",
    "sub_df['id'] = test_csv['id']\n",
    "sub_df.to_csv('submission_resnet50_tuned_21032020.csv',index=False)"
   ]
  },
  {
   "cell_type": "markdown",
   "metadata": {},
   "source": [
    "## 4 Evaluations and conclusions\n",
    "---\n"
   ]
  },
  {
   "cell_type": "markdown",
   "metadata": {},
   "source": [
    "\n",
    "The best performing model on the Kaggle data (first 30% )was the model we built by manually adding in layers.The second best was the pre-trained model (ResNet 50) with the fastai library. We found that data augmentation helped a great deal with boosting the training accuracy. \n",
    "\n",
    "Also saving the tensors as images to disk seems like a good option to expunge the noise while loading images into the model. We also experimented with a pre-trained model that had many layers, but that led to overfitting and a very long training time. \n"
   ]
  }
 ],
 "metadata": {
  "file_extension": ".py",
  "kernelspec": {
   "display_name": "Python 3",
   "language": "python",
   "name": "python3"
  },
  "language_info": {
   "codemirror_mode": {
    "name": "ipython",
    "version": 3
   },
   "file_extension": ".py",
   "mimetype": "text/x-python",
   "name": "python",
   "nbconvert_exporter": "python",
   "pygments_lexer": "ipython3",
   "version": "3.7.4"
  },
  "mimetype": "text/x-python",
  "name": "python",
  "npconvert_exporter": "python",
  "pygments_lexer": "ipython3",
  "version": 3
 },
 "nbformat": 4,
 "nbformat_minor": 2
}
